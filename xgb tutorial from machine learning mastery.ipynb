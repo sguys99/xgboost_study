{
 "cells": [
  {
   "cell_type": "markdown",
   "metadata": {},
   "source": [
    "## xgboost 예제"
   ]
  },
  {
   "cell_type": "markdown",
   "metadata": {},
   "source": [
    "### 1. How to Develop Your First XGBoost Model in Python with scikit-learn"
   ]
  },
  {
   "cell_type": "code",
   "execution_count": 1,
   "metadata": {},
   "outputs": [],
   "source": [
    "import pandas as pd\n",
    "import numpy as np\n",
    "from sklearn.model_selection import train_test_split\n",
    "from sklearn.metrics import accuracy_score\n",
    "from xgboost import XGBClassifier\n",
    "import warnings; warnings.filterwarnings('ignore')\n",
    "import matplotlib.pyplot as plt\n",
    "%matplotlib inline"
   ]
  },
  {
   "cell_type": "code",
   "execution_count": 2,
   "metadata": {},
   "outputs": [],
   "source": [
    "url = 'https://gist.githubusercontent.com/ktisha/c21e73a1bd1700294ef790c56c8aec1f/raw/819b69b5736821ccee93d05b51de0510bea00294/pima-indians-diabetes.csv'"
   ]
  },
  {
   "cell_type": "code",
   "execution_count": 5,
   "metadata": {},
   "outputs": [
    {
     "name": "stderr",
     "output_type": "stream",
     "text": [
      "  % Total    % Received % Xferd  Average Speed   Time    Time     Time  Current\n",
      "                                 Dload  Upload   Total   Spent    Left  Speed\n",
      "\n",
      "  0     0    0     0    0     0      0      0 --:--:-- --:--:-- --:--:--     0\n",
      "100 23628  100 23628    0     0  46148      0 --:--:-- --:--:-- --:--:-- 46148\n"
     ]
    }
   ],
   "source": [
    "!curl -o data/pima-indians-diabetes.csv \\\n",
    "    https://gist.githubusercontent.com/ktisha/c21e73a1bd1700294ef790c56c8aec1f/raw/819b69b5736821ccee93d05b51de0510bea00294/pima-indians-diabetes.csv"
   ]
  },
  {
   "cell_type": "code",
   "execution_count": 37,
   "metadata": {
    "scrolled": true
   },
   "outputs": [
    {
     "ename": "ParserError",
     "evalue": "Error tokenizing data. C error: Expected 1 fields in line 10, saw 9\n",
     "output_type": "error",
     "traceback": [
      "\u001b[1;31m---------------------------------------------------------------------------\u001b[0m",
      "\u001b[1;31mParserError\u001b[0m                               Traceback (most recent call last)",
      "\u001b[1;32m<ipython-input-37-bd8c727a1671>\u001b[0m in \u001b[0;36m<module>\u001b[1;34m\u001b[0m\n\u001b[1;32m----> 1\u001b[1;33m \u001b[0mdataset\u001b[0m \u001b[1;33m=\u001b[0m \u001b[0mpd\u001b[0m\u001b[1;33m.\u001b[0m\u001b[0mread_csv\u001b[0m\u001b[1;33m(\u001b[0m\u001b[1;34m'data/pima-indians-diabetes.csv'\u001b[0m\u001b[1;33m)\u001b[0m\u001b[1;33m\u001b[0m\u001b[1;33m\u001b[0m\u001b[0m\n\u001b[0m\u001b[0;32m      2\u001b[0m \u001b[1;31m# 규칙에 맞지않는 파일이어서 읽어지지 않음\u001b[0m\u001b[1;33m\u001b[0m\u001b[1;33m\u001b[0m\u001b[1;33m\u001b[0m\u001b[0m\n",
      "\u001b[1;32m~\\Anaconda3\\lib\\site-packages\\pandas\\io\\parsers.py\u001b[0m in \u001b[0;36mparser_f\u001b[1;34m(filepath_or_buffer, sep, delimiter, header, names, index_col, usecols, squeeze, prefix, mangle_dupe_cols, dtype, engine, converters, true_values, false_values, skipinitialspace, skiprows, skipfooter, nrows, na_values, keep_default_na, na_filter, verbose, skip_blank_lines, parse_dates, infer_datetime_format, keep_date_col, date_parser, dayfirst, iterator, chunksize, compression, thousands, decimal, lineterminator, quotechar, quoting, doublequote, escapechar, comment, encoding, dialect, tupleize_cols, error_bad_lines, warn_bad_lines, delim_whitespace, low_memory, memory_map, float_precision)\u001b[0m\n\u001b[0;32m    700\u001b[0m                     skip_blank_lines=skip_blank_lines)\n\u001b[0;32m    701\u001b[0m \u001b[1;33m\u001b[0m\u001b[0m\n\u001b[1;32m--> 702\u001b[1;33m         \u001b[1;32mreturn\u001b[0m \u001b[0m_read\u001b[0m\u001b[1;33m(\u001b[0m\u001b[0mfilepath_or_buffer\u001b[0m\u001b[1;33m,\u001b[0m \u001b[0mkwds\u001b[0m\u001b[1;33m)\u001b[0m\u001b[1;33m\u001b[0m\u001b[1;33m\u001b[0m\u001b[0m\n\u001b[0m\u001b[0;32m    703\u001b[0m \u001b[1;33m\u001b[0m\u001b[0m\n\u001b[0;32m    704\u001b[0m     \u001b[0mparser_f\u001b[0m\u001b[1;33m.\u001b[0m\u001b[0m__name__\u001b[0m \u001b[1;33m=\u001b[0m \u001b[0mname\u001b[0m\u001b[1;33m\u001b[0m\u001b[1;33m\u001b[0m\u001b[0m\n",
      "\u001b[1;32m~\\Anaconda3\\lib\\site-packages\\pandas\\io\\parsers.py\u001b[0m in \u001b[0;36m_read\u001b[1;34m(filepath_or_buffer, kwds)\u001b[0m\n\u001b[0;32m    433\u001b[0m \u001b[1;33m\u001b[0m\u001b[0m\n\u001b[0;32m    434\u001b[0m     \u001b[1;32mtry\u001b[0m\u001b[1;33m:\u001b[0m\u001b[1;33m\u001b[0m\u001b[1;33m\u001b[0m\u001b[0m\n\u001b[1;32m--> 435\u001b[1;33m         \u001b[0mdata\u001b[0m \u001b[1;33m=\u001b[0m \u001b[0mparser\u001b[0m\u001b[1;33m.\u001b[0m\u001b[0mread\u001b[0m\u001b[1;33m(\u001b[0m\u001b[0mnrows\u001b[0m\u001b[1;33m)\u001b[0m\u001b[1;33m\u001b[0m\u001b[1;33m\u001b[0m\u001b[0m\n\u001b[0m\u001b[0;32m    436\u001b[0m     \u001b[1;32mfinally\u001b[0m\u001b[1;33m:\u001b[0m\u001b[1;33m\u001b[0m\u001b[1;33m\u001b[0m\u001b[0m\n\u001b[0;32m    437\u001b[0m         \u001b[0mparser\u001b[0m\u001b[1;33m.\u001b[0m\u001b[0mclose\u001b[0m\u001b[1;33m(\u001b[0m\u001b[1;33m)\u001b[0m\u001b[1;33m\u001b[0m\u001b[1;33m\u001b[0m\u001b[0m\n",
      "\u001b[1;32m~\\Anaconda3\\lib\\site-packages\\pandas\\io\\parsers.py\u001b[0m in \u001b[0;36mread\u001b[1;34m(self, nrows)\u001b[0m\n\u001b[0;32m   1137\u001b[0m     \u001b[1;32mdef\u001b[0m \u001b[0mread\u001b[0m\u001b[1;33m(\u001b[0m\u001b[0mself\u001b[0m\u001b[1;33m,\u001b[0m \u001b[0mnrows\u001b[0m\u001b[1;33m=\u001b[0m\u001b[1;32mNone\u001b[0m\u001b[1;33m)\u001b[0m\u001b[1;33m:\u001b[0m\u001b[1;33m\u001b[0m\u001b[1;33m\u001b[0m\u001b[0m\n\u001b[0;32m   1138\u001b[0m         \u001b[0mnrows\u001b[0m \u001b[1;33m=\u001b[0m \u001b[0m_validate_integer\u001b[0m\u001b[1;33m(\u001b[0m\u001b[1;34m'nrows'\u001b[0m\u001b[1;33m,\u001b[0m \u001b[0mnrows\u001b[0m\u001b[1;33m)\u001b[0m\u001b[1;33m\u001b[0m\u001b[1;33m\u001b[0m\u001b[0m\n\u001b[1;32m-> 1139\u001b[1;33m         \u001b[0mret\u001b[0m \u001b[1;33m=\u001b[0m \u001b[0mself\u001b[0m\u001b[1;33m.\u001b[0m\u001b[0m_engine\u001b[0m\u001b[1;33m.\u001b[0m\u001b[0mread\u001b[0m\u001b[1;33m(\u001b[0m\u001b[0mnrows\u001b[0m\u001b[1;33m)\u001b[0m\u001b[1;33m\u001b[0m\u001b[1;33m\u001b[0m\u001b[0m\n\u001b[0m\u001b[0;32m   1140\u001b[0m \u001b[1;33m\u001b[0m\u001b[0m\n\u001b[0;32m   1141\u001b[0m         \u001b[1;31m# May alter columns / col_dict\u001b[0m\u001b[1;33m\u001b[0m\u001b[1;33m\u001b[0m\u001b[1;33m\u001b[0m\u001b[0m\n",
      "\u001b[1;32m~\\Anaconda3\\lib\\site-packages\\pandas\\io\\parsers.py\u001b[0m in \u001b[0;36mread\u001b[1;34m(self, nrows)\u001b[0m\n\u001b[0;32m   1993\u001b[0m     \u001b[1;32mdef\u001b[0m \u001b[0mread\u001b[0m\u001b[1;33m(\u001b[0m\u001b[0mself\u001b[0m\u001b[1;33m,\u001b[0m \u001b[0mnrows\u001b[0m\u001b[1;33m=\u001b[0m\u001b[1;32mNone\u001b[0m\u001b[1;33m)\u001b[0m\u001b[1;33m:\u001b[0m\u001b[1;33m\u001b[0m\u001b[1;33m\u001b[0m\u001b[0m\n\u001b[0;32m   1994\u001b[0m         \u001b[1;32mtry\u001b[0m\u001b[1;33m:\u001b[0m\u001b[1;33m\u001b[0m\u001b[1;33m\u001b[0m\u001b[0m\n\u001b[1;32m-> 1995\u001b[1;33m             \u001b[0mdata\u001b[0m \u001b[1;33m=\u001b[0m \u001b[0mself\u001b[0m\u001b[1;33m.\u001b[0m\u001b[0m_reader\u001b[0m\u001b[1;33m.\u001b[0m\u001b[0mread\u001b[0m\u001b[1;33m(\u001b[0m\u001b[0mnrows\u001b[0m\u001b[1;33m)\u001b[0m\u001b[1;33m\u001b[0m\u001b[1;33m\u001b[0m\u001b[0m\n\u001b[0m\u001b[0;32m   1996\u001b[0m         \u001b[1;32mexcept\u001b[0m \u001b[0mStopIteration\u001b[0m\u001b[1;33m:\u001b[0m\u001b[1;33m\u001b[0m\u001b[1;33m\u001b[0m\u001b[0m\n\u001b[0;32m   1997\u001b[0m             \u001b[1;32mif\u001b[0m \u001b[0mself\u001b[0m\u001b[1;33m.\u001b[0m\u001b[0m_first_chunk\u001b[0m\u001b[1;33m:\u001b[0m\u001b[1;33m\u001b[0m\u001b[1;33m\u001b[0m\u001b[0m\n",
      "\u001b[1;32mpandas/_libs/parsers.pyx\u001b[0m in \u001b[0;36mpandas._libs.parsers.TextReader.read\u001b[1;34m()\u001b[0m\n",
      "\u001b[1;32mpandas/_libs/parsers.pyx\u001b[0m in \u001b[0;36mpandas._libs.parsers.TextReader._read_low_memory\u001b[1;34m()\u001b[0m\n",
      "\u001b[1;32mpandas/_libs/parsers.pyx\u001b[0m in \u001b[0;36mpandas._libs.parsers.TextReader._read_rows\u001b[1;34m()\u001b[0m\n",
      "\u001b[1;32mpandas/_libs/parsers.pyx\u001b[0m in \u001b[0;36mpandas._libs.parsers.TextReader._tokenize_rows\u001b[1;34m()\u001b[0m\n",
      "\u001b[1;32mpandas/_libs/parsers.pyx\u001b[0m in \u001b[0;36mpandas._libs.parsers.raise_parser_error\u001b[1;34m()\u001b[0m\n",
      "\u001b[1;31mParserError\u001b[0m: Error tokenizing data. C error: Expected 1 fields in line 10, saw 9\n"
     ]
    }
   ],
   "source": [
    "dataset = pd.read_csv('data/pima-indians-diabetes.csv')\n",
    "# 규칙에 맞지않는 파일이어서 읽어지지 않음"
   ]
  },
  {
   "cell_type": "code",
   "execution_count": 6,
   "metadata": {},
   "outputs": [],
   "source": [
    "# np로 읽기\n",
    "dataset = np.loadtxt('data/pima-indians-diabetes.csv', delimiter=\",\")"
   ]
  },
  {
   "cell_type": "code",
   "execution_count": 7,
   "metadata": {},
   "outputs": [
    {
     "data": {
      "text/plain": [
       "array([[  6.   , 148.   ,  72.   , ...,   0.627,  50.   ,   1.   ],\n",
       "       [  1.   ,  85.   ,  66.   , ...,   0.351,  31.   ,   0.   ],\n",
       "       [  8.   , 183.   ,  64.   , ...,   0.672,  32.   ,   1.   ],\n",
       "       ...,\n",
       "       [  5.   , 121.   ,  72.   , ...,   0.245,  30.   ,   0.   ],\n",
       "       [  1.   , 126.   ,  60.   , ...,   0.349,  47.   ,   1.   ],\n",
       "       [  1.   ,  93.   ,  70.   , ...,   0.315,  23.   ,   0.   ]])"
      ]
     },
     "execution_count": 7,
     "metadata": {},
     "output_type": "execute_result"
    }
   ],
   "source": [
    "dataset"
   ]
  },
  {
   "cell_type": "code",
   "execution_count": 8,
   "metadata": {},
   "outputs": [
    {
     "data": {
      "text/plain": [
       "(768, 9)"
      ]
     },
     "execution_count": 8,
     "metadata": {},
     "output_type": "execute_result"
    }
   ],
   "source": [
    "dataset.shape"
   ]
  },
  {
   "cell_type": "code",
   "execution_count": 9,
   "metadata": {},
   "outputs": [],
   "source": [
    "X = dataset[:, :8]\n",
    "y = dataset[:, 8]"
   ]
  },
  {
   "cell_type": "code",
   "execution_count": 10,
   "metadata": {},
   "outputs": [],
   "source": [
    "seed = 7\n",
    "test_size = 0.33\n",
    "X_train, X_test, y_train, y_test = \\\n",
    "    train_test_split(X, y, test_size = test_size, random_state = seed)"
   ]
  },
  {
   "cell_type": "code",
   "execution_count": null,
   "metadata": {},
   "outputs": [],
   "source": []
  },
  {
   "cell_type": "code",
   "execution_count": 11,
   "metadata": {},
   "outputs": [
    {
     "data": {
      "text/plain": [
       "XGBClassifier(base_score=0.5, booster='gbtree', colsample_bylevel=1,\n",
       "       colsample_bytree=1, gamma=0, learning_rate=0.1, max_delta_step=0,\n",
       "       max_depth=3, min_child_weight=1, missing=None, n_estimators=100,\n",
       "       n_jobs=1, nthread=None, objective='binary:logistic', random_state=0,\n",
       "       reg_alpha=0, reg_lambda=1, scale_pos_weight=1, seed=None,\n",
       "       silent=True, subsample=1)"
      ]
     },
     "execution_count": 11,
     "metadata": {},
     "output_type": "execute_result"
    }
   ],
   "source": [
    "model = XGBClassifier()\n",
    "model.fit(X_train, y_train)"
   ]
  },
  {
   "cell_type": "code",
   "execution_count": 12,
   "metadata": {},
   "outputs": [
    {
     "name": "stdout",
     "output_type": "stream",
     "text": [
      "XGBClassifier(base_score=0.5, booster='gbtree', colsample_bylevel=1,\n",
      "       colsample_bytree=1, gamma=0, learning_rate=0.1, max_delta_step=0,\n",
      "       max_depth=3, min_child_weight=1, missing=None, n_estimators=100,\n",
      "       n_jobs=1, nthread=None, objective='binary:logistic', random_state=0,\n",
      "       reg_alpha=0, reg_lambda=1, scale_pos_weight=1, seed=None,\n",
      "       silent=True, subsample=1)\n"
     ]
    }
   ],
   "source": [
    "print(model)"
   ]
  },
  {
   "cell_type": "code",
   "execution_count": 13,
   "metadata": {},
   "outputs": [
    {
     "data": {
      "text/plain": [
       "array([0., 1., 1., 0., 1., 1., 0., 0., 1., 0., 1., 0., 1., 1., 0., 0., 0.,\n",
       "       1., 0., 0., 0., 0., 1., 1., 0., 0., 0., 0., 0., 1., 1., 0., 0., 0.,\n",
       "       0., 1., 1., 0., 1., 0., 1., 1., 1., 0., 0., 0., 1., 0., 0., 1., 0.,\n",
       "       0., 0., 0., 0., 0., 0., 0., 0., 0., 0., 0., 0., 1., 1., 1., 0., 1.,\n",
       "       1., 1., 1., 1., 0., 0., 0., 0., 0., 0., 0., 0., 0., 0., 0., 0., 0.,\n",
       "       0., 1., 0., 1., 0., 1., 0., 1., 0., 0., 1., 1., 0., 1., 0., 1., 0.,\n",
       "       0., 0., 0., 1., 0., 0., 0., 1., 0., 1., 0., 0., 1., 1., 0., 0., 0.,\n",
       "       1., 0., 0., 0., 0., 0., 1., 0., 0., 0., 0., 0., 1., 0., 0., 0., 0.,\n",
       "       0., 0., 0., 1., 0., 1., 0., 0., 0., 0., 0., 0., 1., 0., 0., 1., 0.,\n",
       "       0., 0., 0., 1., 0., 1., 0., 0., 0., 0., 0., 1., 0., 1., 0., 0., 1.,\n",
       "       0., 1., 0., 0., 1., 0., 1., 0., 1., 0., 1., 0., 0., 0., 0., 0., 0.,\n",
       "       0., 0., 1., 1., 0., 1., 1., 0., 0., 1., 0., 0., 1., 0., 1., 1., 1.,\n",
       "       0., 0., 1., 0., 0., 0., 1., 1., 0., 1., 0., 0., 0., 1., 0., 0., 0.,\n",
       "       0., 1., 0., 1., 1., 1., 1., 1., 0., 0., 1., 0., 0., 0., 0., 0., 1.,\n",
       "       0., 0., 1., 1., 0., 0., 1., 0., 1., 0., 0., 0., 0., 1., 1., 1.])"
      ]
     },
     "execution_count": 13,
     "metadata": {},
     "output_type": "execute_result"
    }
   ],
   "source": [
    "y_pred = model.predict(X_test)\n",
    "y_pred"
   ]
  },
  {
   "cell_type": "code",
   "execution_count": 14,
   "metadata": {},
   "outputs": [],
   "source": [
    "predictions = [round(value) for value in y_pred]"
   ]
  },
  {
   "cell_type": "code",
   "execution_count": 15,
   "metadata": {},
   "outputs": [
    {
     "data": {
      "text/plain": [
       "[0.0,\n",
       " 1.0,\n",
       " 1.0,\n",
       " 0.0,\n",
       " 1.0,\n",
       " 1.0,\n",
       " 0.0,\n",
       " 0.0,\n",
       " 1.0,\n",
       " 0.0,\n",
       " 1.0,\n",
       " 0.0,\n",
       " 1.0,\n",
       " 1.0,\n",
       " 0.0,\n",
       " 0.0,\n",
       " 0.0,\n",
       " 1.0,\n",
       " 0.0,\n",
       " 0.0,\n",
       " 0.0,\n",
       " 0.0,\n",
       " 1.0,\n",
       " 1.0,\n",
       " 0.0,\n",
       " 0.0,\n",
       " 0.0,\n",
       " 0.0,\n",
       " 0.0,\n",
       " 1.0,\n",
       " 1.0,\n",
       " 0.0,\n",
       " 0.0,\n",
       " 0.0,\n",
       " 0.0,\n",
       " 1.0,\n",
       " 1.0,\n",
       " 0.0,\n",
       " 1.0,\n",
       " 0.0,\n",
       " 1.0,\n",
       " 1.0,\n",
       " 1.0,\n",
       " 0.0,\n",
       " 0.0,\n",
       " 0.0,\n",
       " 1.0,\n",
       " 0.0,\n",
       " 0.0,\n",
       " 1.0,\n",
       " 0.0,\n",
       " 0.0,\n",
       " 0.0,\n",
       " 0.0,\n",
       " 0.0,\n",
       " 0.0,\n",
       " 0.0,\n",
       " 0.0,\n",
       " 0.0,\n",
       " 0.0,\n",
       " 0.0,\n",
       " 0.0,\n",
       " 0.0,\n",
       " 1.0,\n",
       " 1.0,\n",
       " 1.0,\n",
       " 0.0,\n",
       " 1.0,\n",
       " 1.0,\n",
       " 1.0,\n",
       " 1.0,\n",
       " 1.0,\n",
       " 0.0,\n",
       " 0.0,\n",
       " 0.0,\n",
       " 0.0,\n",
       " 0.0,\n",
       " 0.0,\n",
       " 0.0,\n",
       " 0.0,\n",
       " 0.0,\n",
       " 0.0,\n",
       " 0.0,\n",
       " 0.0,\n",
       " 0.0,\n",
       " 0.0,\n",
       " 1.0,\n",
       " 0.0,\n",
       " 1.0,\n",
       " 0.0,\n",
       " 1.0,\n",
       " 0.0,\n",
       " 1.0,\n",
       " 0.0,\n",
       " 0.0,\n",
       " 1.0,\n",
       " 1.0,\n",
       " 0.0,\n",
       " 1.0,\n",
       " 0.0,\n",
       " 1.0,\n",
       " 0.0,\n",
       " 0.0,\n",
       " 0.0,\n",
       " 0.0,\n",
       " 1.0,\n",
       " 0.0,\n",
       " 0.0,\n",
       " 0.0,\n",
       " 1.0,\n",
       " 0.0,\n",
       " 1.0,\n",
       " 0.0,\n",
       " 0.0,\n",
       " 1.0,\n",
       " 1.0,\n",
       " 0.0,\n",
       " 0.0,\n",
       " 0.0,\n",
       " 1.0,\n",
       " 0.0,\n",
       " 0.0,\n",
       " 0.0,\n",
       " 0.0,\n",
       " 0.0,\n",
       " 1.0,\n",
       " 0.0,\n",
       " 0.0,\n",
       " 0.0,\n",
       " 0.0,\n",
       " 0.0,\n",
       " 1.0,\n",
       " 0.0,\n",
       " 0.0,\n",
       " 0.0,\n",
       " 0.0,\n",
       " 0.0,\n",
       " 0.0,\n",
       " 0.0,\n",
       " 1.0,\n",
       " 0.0,\n",
       " 1.0,\n",
       " 0.0,\n",
       " 0.0,\n",
       " 0.0,\n",
       " 0.0,\n",
       " 0.0,\n",
       " 0.0,\n",
       " 1.0,\n",
       " 0.0,\n",
       " 0.0,\n",
       " 1.0,\n",
       " 0.0,\n",
       " 0.0,\n",
       " 0.0,\n",
       " 0.0,\n",
       " 1.0,\n",
       " 0.0,\n",
       " 1.0,\n",
       " 0.0,\n",
       " 0.0,\n",
       " 0.0,\n",
       " 0.0,\n",
       " 0.0,\n",
       " 1.0,\n",
       " 0.0,\n",
       " 1.0,\n",
       " 0.0,\n",
       " 0.0,\n",
       " 1.0,\n",
       " 0.0,\n",
       " 1.0,\n",
       " 0.0,\n",
       " 0.0,\n",
       " 1.0,\n",
       " 0.0,\n",
       " 1.0,\n",
       " 0.0,\n",
       " 1.0,\n",
       " 0.0,\n",
       " 1.0,\n",
       " 0.0,\n",
       " 0.0,\n",
       " 0.0,\n",
       " 0.0,\n",
       " 0.0,\n",
       " 0.0,\n",
       " 0.0,\n",
       " 0.0,\n",
       " 1.0,\n",
       " 1.0,\n",
       " 0.0,\n",
       " 1.0,\n",
       " 1.0,\n",
       " 0.0,\n",
       " 0.0,\n",
       " 1.0,\n",
       " 0.0,\n",
       " 0.0,\n",
       " 1.0,\n",
       " 0.0,\n",
       " 1.0,\n",
       " 1.0,\n",
       " 1.0,\n",
       " 0.0,\n",
       " 0.0,\n",
       " 1.0,\n",
       " 0.0,\n",
       " 0.0,\n",
       " 0.0,\n",
       " 1.0,\n",
       " 1.0,\n",
       " 0.0,\n",
       " 1.0,\n",
       " 0.0,\n",
       " 0.0,\n",
       " 0.0,\n",
       " 1.0,\n",
       " 0.0,\n",
       " 0.0,\n",
       " 0.0,\n",
       " 0.0,\n",
       " 1.0,\n",
       " 0.0,\n",
       " 1.0,\n",
       " 1.0,\n",
       " 1.0,\n",
       " 1.0,\n",
       " 1.0,\n",
       " 0.0,\n",
       " 0.0,\n",
       " 1.0,\n",
       " 0.0,\n",
       " 0.0,\n",
       " 0.0,\n",
       " 0.0,\n",
       " 0.0,\n",
       " 1.0,\n",
       " 0.0,\n",
       " 0.0,\n",
       " 1.0,\n",
       " 1.0,\n",
       " 0.0,\n",
       " 0.0,\n",
       " 1.0,\n",
       " 0.0,\n",
       " 1.0,\n",
       " 0.0,\n",
       " 0.0,\n",
       " 0.0,\n",
       " 0.0,\n",
       " 1.0,\n",
       " 1.0,\n",
       " 1.0]"
      ]
     },
     "execution_count": 15,
     "metadata": {},
     "output_type": "execute_result"
    }
   ],
   "source": [
    "predictions"
   ]
  },
  {
   "cell_type": "code",
   "execution_count": 16,
   "metadata": {},
   "outputs": [],
   "source": [
    "accuracy = accuracy_score(y_test, y_pred)"
   ]
  },
  {
   "cell_type": "code",
   "execution_count": 17,
   "metadata": {},
   "outputs": [
    {
     "data": {
      "text/plain": [
       "0.7795275590551181"
      ]
     },
     "execution_count": 17,
     "metadata": {},
     "output_type": "execute_result"
    }
   ],
   "source": [
    "accuracy"
   ]
  },
  {
   "cell_type": "code",
   "execution_count": 18,
   "metadata": {},
   "outputs": [],
   "source": [
    "accuracy = accuracy_score(y_test, predictions)"
   ]
  },
  {
   "cell_type": "code",
   "execution_count": 19,
   "metadata": {},
   "outputs": [
    {
     "data": {
      "text/plain": [
       "0.7795275590551181"
      ]
     },
     "execution_count": 19,
     "metadata": {},
     "output_type": "execute_result"
    }
   ],
   "source": [
    "accuracy"
   ]
  },
  {
   "cell_type": "code",
   "execution_count": 20,
   "metadata": {},
   "outputs": [
    {
     "name": "stdout",
     "output_type": "stream",
     "text": [
      "Accuracy: 77.95%\n"
     ]
    }
   ],
   "source": [
    "print(\"Accuracy: %.2f%%\" % (accuracy * 100.0))"
   ]
  },
  {
   "cell_type": "code",
   "execution_count": 21,
   "metadata": {},
   "outputs": [
    {
     "name": "stdout",
     "output_type": "stream",
     "text": [
      "Accuracy: 77.95% \n"
     ]
    }
   ],
   "source": [
    "print('Accuracy: {:.2%} '.format(accuracy))"
   ]
  },
  {
   "cell_type": "code",
   "execution_count": 22,
   "metadata": {},
   "outputs": [
    {
     "name": "stdout",
     "output_type": "stream",
     "text": [
      "Accuracy: 7.8e+01 \n"
     ]
    }
   ],
   "source": [
    "print('Accuracy: {0:.2} '.format(accuracy*100.0))"
   ]
  },
  {
   "cell_type": "code",
   "execution_count": 23,
   "metadata": {},
   "outputs": [
    {
     "name": "stdout",
     "output_type": "stream",
     "text": [
      "Accuracy: 77.95% \n"
     ]
    }
   ],
   "source": [
    "print('Accuracy: {0:.2f}% '.format(accuracy*100.0))"
   ]
  },
  {
   "cell_type": "code",
   "execution_count": null,
   "metadata": {},
   "outputs": [],
   "source": []
  },
  {
   "cell_type": "markdown",
   "metadata": {},
   "source": [
    "### 2. Data Preparation for Gradient Boosting with XGBoost in Python"
   ]
  },
  {
   "cell_type": "code",
   "execution_count": 24,
   "metadata": {},
   "outputs": [],
   "source": [
    "import pandas as pd\n",
    "import numpy as np\n",
    "from sklearn.model_selection import train_test_split\n",
    "from sklearn.metrics import accuracy_score\n",
    "from xgboost import XGBClassifier\n",
    "import warnings; warnings.filterwarnings('ignore')\n",
    "import matplotlib.pyplot as plt\n",
    "%matplotlib inline"
   ]
  },
  {
   "cell_type": "code",
   "execution_count": 25,
   "metadata": {},
   "outputs": [],
   "source": [
    "#XGBoost는 numerical value 만 입력으로 받음\n",
    "# 데이터 타입이 다른형태라면 포맷변경이 필요함"
   ]
  },
  {
   "cell_type": "code",
   "execution_count": null,
   "metadata": {},
   "outputs": [],
   "source": []
  },
  {
   "cell_type": "markdown",
   "metadata": {},
   "source": [
    "How to encode string output variables for classification.  \n",
    "How to prepare categorical input variables using one hot encoding.  \n",
    "How to automatically handle missing data with XGBoost"
   ]
  },
  {
   "cell_type": "code",
   "execution_count": 27,
   "metadata": {},
   "outputs": [],
   "source": [
    "iris = pd.read_csv('data/iris.csv')"
   ]
  },
  {
   "cell_type": "code",
   "execution_count": 28,
   "metadata": {},
   "outputs": [
    {
     "data": {
      "text/html": [
       "<div>\n",
       "<style scoped>\n",
       "    .dataframe tbody tr th:only-of-type {\n",
       "        vertical-align: middle;\n",
       "    }\n",
       "\n",
       "    .dataframe tbody tr th {\n",
       "        vertical-align: top;\n",
       "    }\n",
       "\n",
       "    .dataframe thead th {\n",
       "        text-align: right;\n",
       "    }\n",
       "</style>\n",
       "<table border=\"1\" class=\"dataframe\">\n",
       "  <thead>\n",
       "    <tr style=\"text-align: right;\">\n",
       "      <th></th>\n",
       "      <th>sepal.length</th>\n",
       "      <th>sepal.width</th>\n",
       "      <th>petal.length</th>\n",
       "      <th>petal.width</th>\n",
       "      <th>variety</th>\n",
       "    </tr>\n",
       "  </thead>\n",
       "  <tbody>\n",
       "    <tr>\n",
       "      <th>0</th>\n",
       "      <td>5.1</td>\n",
       "      <td>3.5</td>\n",
       "      <td>1.4</td>\n",
       "      <td>0.2</td>\n",
       "      <td>Setosa</td>\n",
       "    </tr>\n",
       "    <tr>\n",
       "      <th>1</th>\n",
       "      <td>4.9</td>\n",
       "      <td>3.0</td>\n",
       "      <td>1.4</td>\n",
       "      <td>0.2</td>\n",
       "      <td>Setosa</td>\n",
       "    </tr>\n",
       "    <tr>\n",
       "      <th>2</th>\n",
       "      <td>4.7</td>\n",
       "      <td>3.2</td>\n",
       "      <td>1.3</td>\n",
       "      <td>0.2</td>\n",
       "      <td>Setosa</td>\n",
       "    </tr>\n",
       "    <tr>\n",
       "      <th>3</th>\n",
       "      <td>4.6</td>\n",
       "      <td>3.1</td>\n",
       "      <td>1.5</td>\n",
       "      <td>0.2</td>\n",
       "      <td>Setosa</td>\n",
       "    </tr>\n",
       "    <tr>\n",
       "      <th>4</th>\n",
       "      <td>5.0</td>\n",
       "      <td>3.6</td>\n",
       "      <td>1.4</td>\n",
       "      <td>0.2</td>\n",
       "      <td>Setosa</td>\n",
       "    </tr>\n",
       "  </tbody>\n",
       "</table>\n",
       "</div>"
      ],
      "text/plain": [
       "   sepal.length  sepal.width  petal.length  petal.width variety\n",
       "0           5.1          3.5           1.4          0.2  Setosa\n",
       "1           4.9          3.0           1.4          0.2  Setosa\n",
       "2           4.7          3.2           1.3          0.2  Setosa\n",
       "3           4.6          3.1           1.5          0.2  Setosa\n",
       "4           5.0          3.6           1.4          0.2  Setosa"
      ]
     },
     "execution_count": 28,
     "metadata": {},
     "output_type": "execute_result"
    }
   ],
   "source": [
    "iris.head()"
   ]
  },
  {
   "cell_type": "code",
   "execution_count": null,
   "metadata": {},
   "outputs": [],
   "source": []
  },
  {
   "cell_type": "code",
   "execution_count": 31,
   "metadata": {},
   "outputs": [
    {
     "data": {
      "text/html": [
       "<div>\n",
       "<style scoped>\n",
       "    .dataframe tbody tr th:only-of-type {\n",
       "        vertical-align: middle;\n",
       "    }\n",
       "\n",
       "    .dataframe tbody tr th {\n",
       "        vertical-align: top;\n",
       "    }\n",
       "\n",
       "    .dataframe thead th {\n",
       "        text-align: right;\n",
       "    }\n",
       "</style>\n",
       "<table border=\"1\" class=\"dataframe\">\n",
       "  <thead>\n",
       "    <tr style=\"text-align: right;\">\n",
       "      <th></th>\n",
       "      <th>sepal.length</th>\n",
       "      <th>sepal.width</th>\n",
       "      <th>petal.length</th>\n",
       "      <th>petal.width</th>\n",
       "      <th>variety</th>\n",
       "    </tr>\n",
       "  </thead>\n",
       "  <tbody>\n",
       "    <tr>\n",
       "      <th>0</th>\n",
       "      <td>5.1</td>\n",
       "      <td>3.5</td>\n",
       "      <td>1.4</td>\n",
       "      <td>0.2</td>\n",
       "      <td>Setosa</td>\n",
       "    </tr>\n",
       "    <tr>\n",
       "      <th>1</th>\n",
       "      <td>4.9</td>\n",
       "      <td>3.0</td>\n",
       "      <td>1.4</td>\n",
       "      <td>0.2</td>\n",
       "      <td>Setosa</td>\n",
       "    </tr>\n",
       "    <tr>\n",
       "      <th>2</th>\n",
       "      <td>4.7</td>\n",
       "      <td>3.2</td>\n",
       "      <td>1.3</td>\n",
       "      <td>0.2</td>\n",
       "      <td>Setosa</td>\n",
       "    </tr>\n",
       "    <tr>\n",
       "      <th>3</th>\n",
       "      <td>4.6</td>\n",
       "      <td>3.1</td>\n",
       "      <td>1.5</td>\n",
       "      <td>0.2</td>\n",
       "      <td>Setosa</td>\n",
       "    </tr>\n",
       "    <tr>\n",
       "      <th>4</th>\n",
       "      <td>5.0</td>\n",
       "      <td>3.6</td>\n",
       "      <td>1.4</td>\n",
       "      <td>0.2</td>\n",
       "      <td>Setosa</td>\n",
       "    </tr>\n",
       "  </tbody>\n",
       "</table>\n",
       "</div>"
      ],
      "text/plain": [
       "   sepal.length  sepal.width  petal.length  petal.width variety\n",
       "0           5.1          3.5           1.4          0.2  Setosa\n",
       "1           4.9          3.0           1.4          0.2  Setosa\n",
       "2           4.7          3.2           1.3          0.2  Setosa\n",
       "3           4.6          3.1           1.5          0.2  Setosa\n",
       "4           5.0          3.6           1.4          0.2  Setosa"
      ]
     },
     "execution_count": 31,
     "metadata": {},
     "output_type": "execute_result"
    }
   ],
   "source": [
    "iris.head()"
   ]
  },
  {
   "cell_type": "code",
   "execution_count": 32,
   "metadata": {},
   "outputs": [],
   "source": [
    "Y = iris.iloc[:, 4]"
   ]
  },
  {
   "cell_type": "code",
   "execution_count": 33,
   "metadata": {},
   "outputs": [
    {
     "data": {
      "text/plain": [
       "0    Setosa\n",
       "1    Setosa\n",
       "2    Setosa\n",
       "3    Setosa\n",
       "4    Setosa\n",
       "Name: variety, dtype: object"
      ]
     },
     "execution_count": 33,
     "metadata": {},
     "output_type": "execute_result"
    }
   ],
   "source": [
    "Y.head()"
   ]
  },
  {
   "cell_type": "code",
   "execution_count": null,
   "metadata": {},
   "outputs": [],
   "source": []
  },
  {
   "cell_type": "code",
   "execution_count": 34,
   "metadata": {},
   "outputs": [],
   "source": [
    "# 예제 시작"
   ]
  },
  {
   "cell_type": "code",
   "execution_count": 35,
   "metadata": {},
   "outputs": [],
   "source": [
    "import pandas as pd\n",
    "import numpy as np\n",
    "from xgboost import XGBClassifier\n",
    "from sklearn.model_selection import train_test_split\n",
    "from sklearn.metrics import accuracy_score\n",
    "from sklearn.preprocessing import LabelEncoder # 스트링 데이터 인코딩에 주로 사용"
   ]
  },
  {
   "cell_type": "code",
   "execution_count": 38,
   "metadata": {},
   "outputs": [],
   "source": [
    "data = pd.read_csv('data/iris.csv')"
   ]
  },
  {
   "cell_type": "code",
   "execution_count": 39,
   "metadata": {},
   "outputs": [
    {
     "data": {
      "text/html": [
       "<div>\n",
       "<style scoped>\n",
       "    .dataframe tbody tr th:only-of-type {\n",
       "        vertical-align: middle;\n",
       "    }\n",
       "\n",
       "    .dataframe tbody tr th {\n",
       "        vertical-align: top;\n",
       "    }\n",
       "\n",
       "    .dataframe thead th {\n",
       "        text-align: right;\n",
       "    }\n",
       "</style>\n",
       "<table border=\"1\" class=\"dataframe\">\n",
       "  <thead>\n",
       "    <tr style=\"text-align: right;\">\n",
       "      <th></th>\n",
       "      <th>sepal.length</th>\n",
       "      <th>sepal.width</th>\n",
       "      <th>petal.length</th>\n",
       "      <th>petal.width</th>\n",
       "      <th>variety</th>\n",
       "    </tr>\n",
       "  </thead>\n",
       "  <tbody>\n",
       "    <tr>\n",
       "      <th>0</th>\n",
       "      <td>5.1</td>\n",
       "      <td>3.5</td>\n",
       "      <td>1.4</td>\n",
       "      <td>0.2</td>\n",
       "      <td>Setosa</td>\n",
       "    </tr>\n",
       "    <tr>\n",
       "      <th>1</th>\n",
       "      <td>4.9</td>\n",
       "      <td>3.0</td>\n",
       "      <td>1.4</td>\n",
       "      <td>0.2</td>\n",
       "      <td>Setosa</td>\n",
       "    </tr>\n",
       "    <tr>\n",
       "      <th>2</th>\n",
       "      <td>4.7</td>\n",
       "      <td>3.2</td>\n",
       "      <td>1.3</td>\n",
       "      <td>0.2</td>\n",
       "      <td>Setosa</td>\n",
       "    </tr>\n",
       "    <tr>\n",
       "      <th>3</th>\n",
       "      <td>4.6</td>\n",
       "      <td>3.1</td>\n",
       "      <td>1.5</td>\n",
       "      <td>0.2</td>\n",
       "      <td>Setosa</td>\n",
       "    </tr>\n",
       "    <tr>\n",
       "      <th>4</th>\n",
       "      <td>5.0</td>\n",
       "      <td>3.6</td>\n",
       "      <td>1.4</td>\n",
       "      <td>0.2</td>\n",
       "      <td>Setosa</td>\n",
       "    </tr>\n",
       "  </tbody>\n",
       "</table>\n",
       "</div>"
      ],
      "text/plain": [
       "   sepal.length  sepal.width  petal.length  petal.width variety\n",
       "0           5.1          3.5           1.4          0.2  Setosa\n",
       "1           4.9          3.0           1.4          0.2  Setosa\n",
       "2           4.7          3.2           1.3          0.2  Setosa\n",
       "3           4.6          3.1           1.5          0.2  Setosa\n",
       "4           5.0          3.6           1.4          0.2  Setosa"
      ]
     },
     "execution_count": 39,
     "metadata": {},
     "output_type": "execute_result"
    }
   ],
   "source": [
    "data.head()"
   ]
  },
  {
   "cell_type": "code",
   "execution_count": 40,
   "metadata": {},
   "outputs": [],
   "source": [
    "dataset = data.values"
   ]
  },
  {
   "cell_type": "code",
   "execution_count": 41,
   "metadata": {},
   "outputs": [],
   "source": [
    "X = dataset[:, :4]\n",
    "y = dataset[:, 4]"
   ]
  },
  {
   "cell_type": "code",
   "execution_count": 42,
   "metadata": {},
   "outputs": [],
   "source": [
    "label_encoder = LabelEncoder()"
   ]
  },
  {
   "cell_type": "code",
   "execution_count": 43,
   "metadata": {},
   "outputs": [
    {
     "data": {
      "text/plain": [
       "LabelEncoder()"
      ]
     },
     "execution_count": 43,
     "metadata": {},
     "output_type": "execute_result"
    }
   ],
   "source": [
    "label_encoder.fit(Y)"
   ]
  },
  {
   "cell_type": "code",
   "execution_count": 44,
   "metadata": {},
   "outputs": [],
   "source": [
    "label_encoded_y = label_encoder.transform(Y)"
   ]
  },
  {
   "cell_type": "code",
   "execution_count": 45,
   "metadata": {},
   "outputs": [
    {
     "data": {
      "text/plain": [
       "array([0, 0, 0, 0, 0, 0, 0, 0, 0, 0, 0, 0, 0, 0, 0, 0, 0, 0, 0, 0, 0, 0,\n",
       "       0, 0, 0, 0, 0, 0, 0, 0, 0, 0, 0, 0, 0, 0, 0, 0, 0, 0, 0, 0, 0, 0,\n",
       "       0, 0, 0, 0, 0, 0, 1, 1, 1, 1, 1, 1, 1, 1, 1, 1, 1, 1, 1, 1, 1, 1,\n",
       "       1, 1, 1, 1, 1, 1, 1, 1, 1, 1, 1, 1, 1, 1, 1, 1, 1, 1, 1, 1, 1, 1,\n",
       "       1, 1, 1, 1, 1, 1, 1, 1, 1, 1, 1, 1, 2, 2, 2, 2, 2, 2, 2, 2, 2, 2,\n",
       "       2, 2, 2, 2, 2, 2, 2, 2, 2, 2, 2, 2, 2, 2, 2, 2, 2, 2, 2, 2, 2, 2,\n",
       "       2, 2, 2, 2, 2, 2, 2, 2, 2, 2, 2, 2, 2, 2, 2, 2, 2, 2])"
      ]
     },
     "execution_count": 45,
     "metadata": {},
     "output_type": "execute_result"
    }
   ],
   "source": [
    "label_encoded_y"
   ]
  },
  {
   "cell_type": "code",
   "execution_count": 46,
   "metadata": {},
   "outputs": [],
   "source": [
    "seed = 7; test_size = 0.33;\n",
    "X_train, X_test, y_train, y_test = \\\n",
    "        train_test_split(X, label_encoded_y, test_size = test_size, \n",
    "                        random_state = seed)"
   ]
  },
  {
   "cell_type": "code",
   "execution_count": 47,
   "metadata": {},
   "outputs": [
    {
     "name": "stdout",
     "output_type": "stream",
     "text": [
      "XGBClassifier(base_score=0.5, booster='gbtree', colsample_bylevel=1,\n",
      "       colsample_bytree=1, gamma=0, learning_rate=0.1, max_delta_step=0,\n",
      "       max_depth=3, min_child_weight=1, missing=None, n_estimators=100,\n",
      "       n_jobs=1, nthread=None, objective='multi:softprob', random_state=0,\n",
      "       reg_alpha=0, reg_lambda=1, scale_pos_weight=1, seed=None,\n",
      "       silent=True, subsample=1)\n"
     ]
    }
   ],
   "source": [
    "model = XGBClassifier()\n",
    "model.fit(X_train, y_train)\n",
    "print(model)"
   ]
  },
  {
   "cell_type": "code",
   "execution_count": null,
   "metadata": {},
   "outputs": [],
   "source": []
  },
  {
   "cell_type": "code",
   "execution_count": 48,
   "metadata": {},
   "outputs": [],
   "source": [
    "y_pred = model.predict(X_test)"
   ]
  },
  {
   "cell_type": "code",
   "execution_count": 49,
   "metadata": {},
   "outputs": [],
   "source": [
    "accuracy = accuracy_score(y_test, y_pred)"
   ]
  },
  {
   "cell_type": "code",
   "execution_count": 50,
   "metadata": {},
   "outputs": [
    {
     "name": "stdout",
     "output_type": "stream",
     "text": [
      "Accuracy:  92.00%\n"
     ]
    }
   ],
   "source": [
    "print('Accuracy: {0: .2f}%'.format(accuracy*100.0))"
   ]
  },
  {
   "cell_type": "markdown",
   "metadata": {},
   "source": [
    "#### XGB가 자동으로 multiclass classification 문제로 인식하고 동작하였음  \n",
    "#### 내부적으로 타겟 값이 one hot encoding 처리되었음"
   ]
  },
  {
   "cell_type": "code",
   "execution_count": null,
   "metadata": {},
   "outputs": [],
   "source": []
  },
  {
   "cell_type": "markdown",
   "metadata": {},
   "source": [
    "### 3. How to Save Gradient Boosting Models with XGBoost in Python"
   ]
  },
  {
   "cell_type": "markdown",
   "metadata": {},
   "source": [
    "How to save and later load your trained XGBoost model using pickle.  \n",
    "How to save and later load your trained XGBoost model using joblib."
   ]
  },
  {
   "cell_type": "code",
   "execution_count": 51,
   "metadata": {},
   "outputs": [],
   "source": [
    "import numpy as np\n",
    "import pandas as pd\n",
    "import matplotlib.pyplot as plt\n",
    "from xgboost import XGBClassifier\n",
    "import pickle\n",
    "from sklearn.model_selection import train_test_split\n",
    "from sklearn.metrics import accuracy_score"
   ]
  },
  {
   "cell_type": "code",
   "execution_count": 58,
   "metadata": {},
   "outputs": [
    {
     "data": {
      "text/plain": [
       "array([[6.000e+00, 1.480e+02, 7.200e+01, 3.500e+01, 0.000e+00, 3.360e+01,\n",
       "        6.270e-01, 5.000e+01, 1.000e+00],\n",
       "       [1.000e+00, 8.500e+01, 6.600e+01, 2.900e+01, 0.000e+00, 2.660e+01,\n",
       "        3.510e-01, 3.100e+01, 0.000e+00],\n",
       "       [8.000e+00, 1.830e+02, 6.400e+01, 0.000e+00, 0.000e+00, 2.330e+01,\n",
       "        6.720e-01, 3.200e+01, 1.000e+00],\n",
       "       [1.000e+00, 8.900e+01, 6.600e+01, 2.300e+01, 9.400e+01, 2.810e+01,\n",
       "        1.670e-01, 2.100e+01, 0.000e+00],\n",
       "       [0.000e+00, 1.370e+02, 4.000e+01, 3.500e+01, 1.680e+02, 4.310e+01,\n",
       "        2.288e+00, 3.300e+01, 1.000e+00]])"
      ]
     },
     "execution_count": 58,
     "metadata": {},
     "output_type": "execute_result"
    }
   ],
   "source": [
    "dataset = np.loadtxt('data/pima-indians-diabetes.csv', delimiter=\",\")\n",
    "dataset[:5]"
   ]
  },
  {
   "cell_type": "code",
   "execution_count": 59,
   "metadata": {},
   "outputs": [],
   "source": [
    "X = dataset[:, :8]\n",
    "y = dataset[:, 8]"
   ]
  },
  {
   "cell_type": "code",
   "execution_count": 60,
   "metadata": {},
   "outputs": [],
   "source": [
    "seed = 7; test_size = 0.33"
   ]
  },
  {
   "cell_type": "code",
   "execution_count": 61,
   "metadata": {},
   "outputs": [],
   "source": [
    "X_train, X_test, y_train, y_test = train_test_split(X, y, \n",
    "                                   test_size = test_size, random_state = seed )"
   ]
  },
  {
   "cell_type": "code",
   "execution_count": 62,
   "metadata": {},
   "outputs": [
    {
     "data": {
      "text/plain": [
       "XGBClassifier(base_score=0.5, booster='gbtree', colsample_bylevel=1,\n",
       "       colsample_bytree=1, gamma=0, learning_rate=0.1, max_delta_step=0,\n",
       "       max_depth=3, min_child_weight=1, missing=None, n_estimators=100,\n",
       "       n_jobs=1, nthread=None, objective='binary:logistic', random_state=0,\n",
       "       reg_alpha=0, reg_lambda=1, scale_pos_weight=1, seed=None,\n",
       "       silent=True, subsample=1)"
      ]
     },
     "execution_count": 62,
     "metadata": {},
     "output_type": "execute_result"
    }
   ],
   "source": [
    "model = XGBClassifier()\n",
    "model.fit(X_train, y_train)"
   ]
  },
  {
   "cell_type": "code",
   "execution_count": 66,
   "metadata": {},
   "outputs": [],
   "source": [
    "pickle.dump(model, open('data/pima.pickle.dat', 'wb'))\n",
    "# save model to file"
   ]
  },
  {
   "cell_type": "code",
   "execution_count": null,
   "metadata": {},
   "outputs": [],
   "source": []
  },
  {
   "cell_type": "code",
   "execution_count": 67,
   "metadata": {},
   "outputs": [],
   "source": [
    "# some time later..."
   ]
  },
  {
   "cell_type": "code",
   "execution_count": 68,
   "metadata": {},
   "outputs": [],
   "source": [
    "loaded_model = pickle.load(open('data/pima.pickle.dat', 'rb'))"
   ]
  },
  {
   "cell_type": "code",
   "execution_count": 69,
   "metadata": {},
   "outputs": [],
   "source": [
    "y_pred = loaded_model.predict(X_test)"
   ]
  },
  {
   "cell_type": "code",
   "execution_count": 70,
   "metadata": {},
   "outputs": [],
   "source": [
    "accuracy = accuracy_score(y_test, y_pred)"
   ]
  },
  {
   "cell_type": "code",
   "execution_count": 71,
   "metadata": {},
   "outputs": [
    {
     "name": "stdout",
     "output_type": "stream",
     "text": [
      "Accuracy :  77.95%\n"
     ]
    }
   ],
   "source": [
    "print('Accuracy : {0: .2f}%'.format(accuracy*100.0))"
   ]
  },
  {
   "cell_type": "code",
   "execution_count": null,
   "metadata": {},
   "outputs": [],
   "source": []
  },
  {
   "cell_type": "markdown",
   "metadata": {},
   "source": [
    "### Joblib 사용"
   ]
  },
  {
   "cell_type": "markdown",
   "metadata": {},
   "source": [
    "Joblib is part of the SciPy ecosystem and provides utilities for pipelining Python jobs.\n",
    "\n",
    "The Joblib API provides utilities for saving and loading Python objects that make use of NumPy data structures, efficiently. It may be a faster approach for you to use with very large models.\n",
    "\n",
    "The API looks a lot like the pickle API,"
   ]
  },
  {
   "cell_type": "code",
   "execution_count": 75,
   "metadata": {},
   "outputs": [],
   "source": [
    "import numpy as np\n",
    "import pandas as pd\n",
    "import matplotlib.pyplot as plt\n",
    "from xgboost import XGBClassifier\n",
    "from sklearn.externals import joblib\n",
    "from sklearn.model_selection import train_test_split\n",
    "from sklearn.metrics import accuracy_score"
   ]
  },
  {
   "cell_type": "code",
   "execution_count": 78,
   "metadata": {},
   "outputs": [],
   "source": [
    "dataset = np.loadtxt('data/pima-indians-diabetes.csv', delimiter=\",\")"
   ]
  },
  {
   "cell_type": "code",
   "execution_count": 79,
   "metadata": {},
   "outputs": [],
   "source": [
    "X = dataset[:, :8]\n",
    "y = dataset[:, 8]"
   ]
  },
  {
   "cell_type": "code",
   "execution_count": 80,
   "metadata": {},
   "outputs": [],
   "source": [
    "seed = 7; test_size = 0.33"
   ]
  },
  {
   "cell_type": "code",
   "execution_count": 81,
   "metadata": {},
   "outputs": [
    {
     "data": {
      "text/plain": [
       "XGBClassifier(base_score=0.5, booster='gbtree', colsample_bylevel=1,\n",
       "       colsample_bytree=1, gamma=0, learning_rate=0.1, max_delta_step=0,\n",
       "       max_depth=3, min_child_weight=1, missing=None, n_estimators=100,\n",
       "       n_jobs=1, nthread=None, objective='binary:logistic', random_state=0,\n",
       "       reg_alpha=0, reg_lambda=1, scale_pos_weight=1, seed=None,\n",
       "       silent=True, subsample=1)"
      ]
     },
     "execution_count": 81,
     "metadata": {},
     "output_type": "execute_result"
    }
   ],
   "source": [
    "model = XGBClassifier()\n",
    "model.fit(X_train, y_train)"
   ]
  },
  {
   "cell_type": "code",
   "execution_count": 82,
   "metadata": {},
   "outputs": [
    {
     "data": {
      "text/plain": [
       "['data/pima.joblib.dat']"
      ]
     },
     "execution_count": 82,
     "metadata": {},
     "output_type": "execute_result"
    }
   ],
   "source": [
    "joblib.dump(model, 'data/pima.joblib.dat')"
   ]
  },
  {
   "cell_type": "code",
   "execution_count": 83,
   "metadata": {},
   "outputs": [],
   "source": [
    "# some time later..."
   ]
  },
  {
   "cell_type": "code",
   "execution_count": 85,
   "metadata": {},
   "outputs": [],
   "source": [
    "loaded_model = joblib.load('data/pima.joblib.dat')"
   ]
  },
  {
   "cell_type": "code",
   "execution_count": 86,
   "metadata": {},
   "outputs": [],
   "source": [
    "y_pred = loaded_model.predict(X_test)"
   ]
  },
  {
   "cell_type": "code",
   "execution_count": 87,
   "metadata": {},
   "outputs": [
    {
     "name": "stdout",
     "output_type": "stream",
     "text": [
      "Accuracy:  77.95%\n"
     ]
    }
   ],
   "source": [
    "accuracy = accuracy_score(y_test, y_pred)\n",
    "print('Accuracy: {0: .2f}%'.format(accuracy*100))"
   ]
  },
  {
   "cell_type": "code",
   "execution_count": null,
   "metadata": {},
   "outputs": [],
   "source": []
  },
  {
   "cell_type": "markdown",
   "metadata": {},
   "source": [
    "### 4. How to Evaluate Gradient Boosting Models with XGBoost in Python"
   ]
  },
  {
   "cell_type": "markdown",
   "metadata": {},
   "source": [
    "How to evaluate the performance of your XGBoost models using train and test datasets.  \n",
    "How to evaluate the performance of your XGBoost models using k-fold cross validation."
   ]
  },
  {
   "cell_type": "markdown",
   "metadata": {},
   "source": [
    "#### 4.1 Train 데이터와 Test 데이터 구분하기"
   ]
  },
  {
   "cell_type": "code",
   "execution_count": 88,
   "metadata": {},
   "outputs": [],
   "source": [
    "# 방법은 심플하고, 속도빠름, 단점은 variance가 큼"
   ]
  },
  {
   "cell_type": "code",
   "execution_count": 89,
   "metadata": {},
   "outputs": [],
   "source": [
    "import numpy as np\n",
    "import pandas as pd\n",
    "import matplotlib.pyplot as plt\n",
    "from xgboost import XGBClassifier\n",
    "from sklearn.externals import joblib\n",
    "from sklearn.model_selection import train_test_split\n",
    "from sklearn.metrics import accuracy_score"
   ]
  },
  {
   "cell_type": "code",
   "execution_count": 90,
   "metadata": {},
   "outputs": [],
   "source": [
    "dataset = np.loadtxt('data/pima-indians-diabetes.csv', delimiter=\",\")\n",
    "X = dataset[:, :8]\n",
    "y = dataset[:, 8]"
   ]
  },
  {
   "cell_type": "code",
   "execution_count": 93,
   "metadata": {},
   "outputs": [],
   "source": [
    "X_train, X_test, y_train, y_test = \\\n",
    "        train_test_split(X, y, test_size=0.33, random_state=7)"
   ]
  },
  {
   "cell_type": "code",
   "execution_count": 94,
   "metadata": {},
   "outputs": [
    {
     "data": {
      "text/plain": [
       "XGBClassifier(base_score=0.5, booster='gbtree', colsample_bylevel=1,\n",
       "       colsample_bytree=1, gamma=0, learning_rate=0.1, max_delta_step=0,\n",
       "       max_depth=3, min_child_weight=1, missing=None, n_estimators=100,\n",
       "       n_jobs=1, nthread=None, objective='binary:logistic', random_state=0,\n",
       "       reg_alpha=0, reg_lambda=1, scale_pos_weight=1, seed=None,\n",
       "       silent=True, subsample=1)"
      ]
     },
     "execution_count": 94,
     "metadata": {},
     "output_type": "execute_result"
    }
   ],
   "source": [
    "model = XGBClassifier()\n",
    "model.fit(X_train, y_train)"
   ]
  },
  {
   "cell_type": "code",
   "execution_count": 95,
   "metadata": {},
   "outputs": [
    {
     "name": "stdout",
     "output_type": "stream",
     "text": [
      "Accuracy:  77.95%\n"
     ]
    }
   ],
   "source": [
    "y_pred = model.predict(X_test)\n",
    "accuracy = accuracy_score(y_test, y_pred)\n",
    "print('Accuracy: {0: .2f}%'.format(accuracy*100))"
   ]
  },
  {
   "cell_type": "code",
   "execution_count": null,
   "metadata": {},
   "outputs": [],
   "source": []
  },
  {
   "cell_type": "markdown",
   "metadata": {},
   "source": [
    "#### 4.2 k-Fold cross validation "
   ]
  },
  {
   "cell_type": "code",
   "execution_count": 97,
   "metadata": {},
   "outputs": [],
   "source": [
    "# 장점 :less variance, 단점 : "
   ]
  },
  {
   "cell_type": "code",
   "execution_count": 101,
   "metadata": {},
   "outputs": [],
   "source": [
    "import numpy as np\n",
    "import pandas as pd\n",
    "import matplotlib.pyplot as plt\n",
    "from xgboost import XGBClassifier\n",
    "from sklearn.externals import joblib\n",
    "from sklearn.model_selection import train_test_split\n",
    "from sklearn.model_selection import KFold\n",
    "from sklearn.model_selection import cross_val_score\n",
    "from sklearn.metrics import accuracy_score"
   ]
  },
  {
   "cell_type": "code",
   "execution_count": 102,
   "metadata": {},
   "outputs": [],
   "source": [
    "dataset = np.loadtxt('data/pima-indians-diabetes.csv', delimiter=\",\")\n",
    "X = dataset[:, :8]\n",
    "y = dataset[:, 8]"
   ]
  },
  {
   "cell_type": "code",
   "execution_count": 103,
   "metadata": {},
   "outputs": [],
   "source": [
    "model = XGBClassifier()"
   ]
  },
  {
   "cell_type": "code",
   "execution_count": 104,
   "metadata": {},
   "outputs": [
    {
     "data": {
      "text/plain": [
       "KFold(n_splits=10, random_state=7, shuffle=False)"
      ]
     },
     "execution_count": 104,
     "metadata": {},
     "output_type": "execute_result"
    }
   ],
   "source": [
    "kfold = KFold(n_splits=10, random_state=7)\n",
    "kfold"
   ]
  },
  {
   "cell_type": "code",
   "execution_count": 105,
   "metadata": {},
   "outputs": [
    {
     "data": {
      "text/plain": [
       "array([0.72727273, 0.85714286, 0.71428571, 0.63636364, 0.79220779,\n",
       "       0.77922078, 0.80519481, 0.87012987, 0.68421053, 0.80263158])"
      ]
     },
     "execution_count": 105,
     "metadata": {},
     "output_type": "execute_result"
    }
   ],
   "source": [
    "results = cross_val_score(model, X, y, cv = kfold)\n",
    "results"
   ]
  },
  {
   "cell_type": "code",
   "execution_count": 106,
   "metadata": {},
   "outputs": [
    {
     "name": "stdout",
     "output_type": "stream",
     "text": [
      "Accuracy :  76.69% ( 7.11%)\n"
     ]
    }
   ],
   "source": [
    "print('Accuracy : {0: .2f}% ({1: .2f}%)'.format(results.mean()*100, \n",
    "                            results.std()*100))"
   ]
  },
  {
   "cell_type": "code",
   "execution_count": null,
   "metadata": {},
   "outputs": [],
   "source": []
  },
  {
   "cell_type": "code",
   "execution_count": 108,
   "metadata": {},
   "outputs": [],
   "source": [
    "# 중요 : 다중분류 문제를 풀거나, 클래스의 수가 imbalance 할때\n",
    "# stratified folds가 유용함"
   ]
  },
  {
   "cell_type": "code",
   "execution_count": 109,
   "metadata": {},
   "outputs": [],
   "source": [
    "import numpy as np\n",
    "import pandas as pd\n",
    "import matplotlib.pyplot as plt\n",
    "from xgboost import XGBClassifier\n",
    "from sklearn.externals import joblib\n",
    "from sklearn.model_selection import train_test_split\n",
    "from sklearn.model_selection import StratifiedKFold\n",
    "from sklearn.model_selection import cross_val_score\n",
    "from sklearn.metrics import accuracy_score"
   ]
  },
  {
   "cell_type": "code",
   "execution_count": 110,
   "metadata": {},
   "outputs": [],
   "source": [
    "dataset = np.loadtxt('data/pima-indians-diabetes.csv', delimiter=\",\")\n",
    "X = dataset[:, :8]\n",
    "y = dataset[:, 8]"
   ]
  },
  {
   "cell_type": "code",
   "execution_count": 111,
   "metadata": {},
   "outputs": [],
   "source": [
    "model =XGBClassifier()"
   ]
  },
  {
   "cell_type": "code",
   "execution_count": 112,
   "metadata": {},
   "outputs": [
    {
     "data": {
      "text/plain": [
       "StratifiedKFold(n_splits=10, random_state=7, shuffle=False)"
      ]
     },
     "execution_count": 112,
     "metadata": {},
     "output_type": "execute_result"
    }
   ],
   "source": [
    "kfold = StratifiedKFold(n_splits=10, random_state=7)\n",
    "kfold"
   ]
  },
  {
   "cell_type": "code",
   "execution_count": 113,
   "metadata": {},
   "outputs": [],
   "source": [
    "results = cross_val_score(model, X, y, cv = kfold)"
   ]
  },
  {
   "cell_type": "code",
   "execution_count": 114,
   "metadata": {},
   "outputs": [
    {
     "data": {
      "text/plain": [
       "array([0.76623377, 0.81818182, 0.77922078, 0.64935065, 0.74025974,\n",
       "       0.79220779, 0.80519481, 0.84415584, 0.68421053, 0.81578947])"
      ]
     },
     "execution_count": 114,
     "metadata": {},
     "output_type": "execute_result"
    }
   ],
   "source": [
    "results"
   ]
  },
  {
   "cell_type": "code",
   "execution_count": 115,
   "metadata": {},
   "outputs": [
    {
     "name": "stdout",
     "output_type": "stream",
     "text": [
      "Accuracy :  76.95% ( 5.88%)\n"
     ]
    }
   ],
   "source": [
    "print('Accuracy : {0: .2f}% ({1: .2f}%)'.format(results.mean()*100, \n",
    "                            results.std()*100))"
   ]
  },
  {
   "cell_type": "markdown",
   "metadata": {},
   "source": [
    "Generally, k-fold cross validation is the gold-standard for evaluating the performance of a machine learning algorithm on unseen data with k set to 3, 5, or 10.  \n",
    "Use stratified cross validation to enforce class distributions when there are a large number of classes or an imbalance in instances for each class.  \n",
    "Using a train/test split is good for speed when using a slow algorithm and produces performance estimates with lower bias when using large datasets."
   ]
  },
  {
   "cell_type": "code",
   "execution_count": null,
   "metadata": {},
   "outputs": [],
   "source": []
  },
  {
   "cell_type": "markdown",
   "metadata": {},
   "source": [
    "## 5. How to Visualize Gradient Boosting Decision Trees With XGBoost in Python"
   ]
  },
  {
   "cell_type": "code",
   "execution_count": 127,
   "metadata": {},
   "outputs": [],
   "source": [
    "import numpy as np\n",
    "import pandas as pd\n",
    "import matplotlib.pyplot as plt\n",
    "from xgboost import XGBClassifier\n",
    "from xgboost import plot_tree\n",
    "from sklearn.model_selection import train_test_split\n",
    "from sklearn.metrics import accuracy_score"
   ]
  },
  {
   "cell_type": "code",
   "execution_count": 128,
   "metadata": {},
   "outputs": [],
   "source": [
    "dataset = np.loadtxt('data/pima-indians-diabetes.csv', delimiter=',')\n",
    "X = dataset[:, :8]\n",
    "y = dataset[:, 8]"
   ]
  },
  {
   "cell_type": "code",
   "execution_count": 129,
   "metadata": {},
   "outputs": [
    {
     "data": {
      "text/plain": [
       "XGBClassifier(base_score=0.5, booster='gbtree', colsample_bylevel=1,\n",
       "       colsample_bytree=1, gamma=0, learning_rate=0.1, max_delta_step=0,\n",
       "       max_depth=3, min_child_weight=1, missing=None, n_estimators=100,\n",
       "       n_jobs=1, nthread=None, objective='binary:logistic', random_state=0,\n",
       "       reg_alpha=0, reg_lambda=1, scale_pos_weight=1, seed=None,\n",
       "       silent=True, subsample=1)"
      ]
     },
     "execution_count": 129,
     "metadata": {},
     "output_type": "execute_result"
    }
   ],
   "source": [
    "model = XGBClassifier()\n",
    "model.fit(X, y)"
   ]
  },
  {
   "cell_type": "code",
   "execution_count": 130,
   "metadata": {},
   "outputs": [
    {
     "ename": "ImportError",
     "evalue": "You must install graphviz to plot tree",
     "output_type": "error",
     "traceback": [
      "\u001b[1;31m---------------------------------------------------------------------------\u001b[0m",
      "\u001b[1;31mImportError\u001b[0m                               Traceback (most recent call last)",
      "\u001b[1;32mC:\\ProgramData\\Anaconda3\\lib\\site-packages\\xgboost\\plotting.py\u001b[0m in \u001b[0;36mto_graphviz\u001b[1;34m(booster, fmap, num_trees, rankdir, yes_color, no_color, condition_node_params, leaf_node_params, **kwargs)\u001b[0m\n\u001b[0;32m    211\u001b[0m     \u001b[1;32mtry\u001b[0m\u001b[1;33m:\u001b[0m\u001b[1;33m\u001b[0m\u001b[1;33m\u001b[0m\u001b[0m\n\u001b[1;32m--> 212\u001b[1;33m         \u001b[1;32mfrom\u001b[0m \u001b[0mgraphviz\u001b[0m \u001b[1;32mimport\u001b[0m \u001b[0mDigraph\u001b[0m\u001b[1;33m\u001b[0m\u001b[1;33m\u001b[0m\u001b[0m\n\u001b[0m\u001b[0;32m    213\u001b[0m     \u001b[1;32mexcept\u001b[0m \u001b[0mImportError\u001b[0m\u001b[1;33m:\u001b[0m\u001b[1;33m\u001b[0m\u001b[1;33m\u001b[0m\u001b[0m\n",
      "\u001b[1;31mImportError\u001b[0m: cannot import name 'Digraph'",
      "\nDuring handling of the above exception, another exception occurred:\n",
      "\u001b[1;31mImportError\u001b[0m                               Traceback (most recent call last)",
      "\u001b[1;32m<ipython-input-130-937b91378dc1>\u001b[0m in \u001b[0;36m<module>\u001b[1;34m\u001b[0m\n\u001b[1;32m----> 1\u001b[1;33m \u001b[0mplot_tree\u001b[0m\u001b[1;33m(\u001b[0m\u001b[0mmodel\u001b[0m\u001b[1;33m)\u001b[0m\u001b[1;33m\u001b[0m\u001b[1;33m\u001b[0m\u001b[0m\n\u001b[0m",
      "\u001b[1;32mC:\\ProgramData\\Anaconda3\\lib\\site-packages\\xgboost\\plotting.py\u001b[0m in \u001b[0;36mplot_tree\u001b[1;34m(booster, fmap, num_trees, rankdir, ax, **kwargs)\u001b[0m\n\u001b[0;32m    276\u001b[0m \u001b[1;33m\u001b[0m\u001b[0m\n\u001b[0;32m    277\u001b[0m     g = to_graphviz(booster, fmap=fmap, num_trees=num_trees,\n\u001b[1;32m--> 278\u001b[1;33m                     rankdir=rankdir, **kwargs)\n\u001b[0m\u001b[0;32m    279\u001b[0m \u001b[1;33m\u001b[0m\u001b[0m\n\u001b[0;32m    280\u001b[0m     \u001b[0ms\u001b[0m \u001b[1;33m=\u001b[0m \u001b[0mBytesIO\u001b[0m\u001b[1;33m(\u001b[0m\u001b[1;33m)\u001b[0m\u001b[1;33m\u001b[0m\u001b[1;33m\u001b[0m\u001b[0m\n",
      "\u001b[1;32mC:\\ProgramData\\Anaconda3\\lib\\site-packages\\xgboost\\plotting.py\u001b[0m in \u001b[0;36mto_graphviz\u001b[1;34m(booster, fmap, num_trees, rankdir, yes_color, no_color, condition_node_params, leaf_node_params, **kwargs)\u001b[0m\n\u001b[0;32m    212\u001b[0m         \u001b[1;32mfrom\u001b[0m \u001b[0mgraphviz\u001b[0m \u001b[1;32mimport\u001b[0m \u001b[0mDigraph\u001b[0m\u001b[1;33m\u001b[0m\u001b[1;33m\u001b[0m\u001b[0m\n\u001b[0;32m    213\u001b[0m     \u001b[1;32mexcept\u001b[0m \u001b[0mImportError\u001b[0m\u001b[1;33m:\u001b[0m\u001b[1;33m\u001b[0m\u001b[1;33m\u001b[0m\u001b[0m\n\u001b[1;32m--> 214\u001b[1;33m         \u001b[1;32mraise\u001b[0m \u001b[0mImportError\u001b[0m\u001b[1;33m(\u001b[0m\u001b[1;34m'You must install graphviz to plot tree'\u001b[0m\u001b[1;33m)\u001b[0m\u001b[1;33m\u001b[0m\u001b[1;33m\u001b[0m\u001b[0m\n\u001b[0m\u001b[0;32m    215\u001b[0m \u001b[1;33m\u001b[0m\u001b[0m\n\u001b[0;32m    216\u001b[0m     \u001b[1;32mif\u001b[0m \u001b[1;32mnot\u001b[0m \u001b[0misinstance\u001b[0m\u001b[1;33m(\u001b[0m\u001b[0mbooster\u001b[0m\u001b[1;33m,\u001b[0m \u001b[1;33m(\u001b[0m\u001b[0mBooster\u001b[0m\u001b[1;33m,\u001b[0m \u001b[0mXGBModel\u001b[0m\u001b[1;33m)\u001b[0m\u001b[1;33m)\u001b[0m\u001b[1;33m:\u001b[0m\u001b[1;33m\u001b[0m\u001b[1;33m\u001b[0m\u001b[0m\n",
      "\u001b[1;31mImportError\u001b[0m: You must install graphviz to plot tree"
     ]
    },
    {
     "data": {
      "image/png": "[encoded data removed]",
      "text/plain": [
       "<Figure size 432x288 with 1 Axes>"
      ]
     },
     "metadata": {
      "needs_background": "light"
     },
     "output_type": "display_data"
    }
   ],
   "source": [
    "plot_tree(model)"
   ]
  },
  {
   "cell_type": "code",
   "execution_count": null,
   "metadata": {},
   "outputs": [],
   "source": []
  },
  {
   "cell_type": "markdown",
   "metadata": {},
   "source": [
    "## 6. Feature Importance and Feature Selection With XGBoost in Python"
   ]
  },
  {
   "cell_type": "markdown",
   "metadata": {},
   "source": [
    "How feature importance is calculated using the gradient boosting algorithm.  \n",
    "How to plot feature importance in Python calculated by the XGBoost model.  \n",
    "How to use feature importance calculated by XGBoost to perform feature selection.  "
   ]
  },
  {
   "cell_type": "markdown",
   "metadata": {},
   "source": [
    "Importance is calculated for a single decision tree by the amount that each attribute split point improves the performance measure, weighted by the number of observations the node is responsible for. The performance measure may be the purity (Gini index) used to select the split points or another more specific error function."
   ]
  },
  {
   "cell_type": "code",
   "execution_count": 138,
   "metadata": {},
   "outputs": [],
   "source": [
    "import numpy as np\n",
    "import pandas as pd\n",
    "import matplotlib.pyplot as plt\n",
    "from xgboost import XGBClassifier\n",
    "from xgboost import plot_importance"
   ]
  },
  {
   "cell_type": "code",
   "execution_count": 139,
   "metadata": {},
   "outputs": [],
   "source": [
    "dataset = np.loadtxt('data/pima-indians-diabetes.csv', delimiter=',')\n",
    "X = dataset[:, :8]\n",
    "y = dataset[:, 8]"
   ]
  },
  {
   "cell_type": "code",
   "execution_count": 140,
   "metadata": {},
   "outputs": [
    {
     "data": {
      "text/plain": [
       "XGBClassifier(base_score=0.5, booster='gbtree', colsample_bylevel=1,\n",
       "       colsample_bytree=1, gamma=0, learning_rate=0.1, max_delta_step=0,\n",
       "       max_depth=3, min_child_weight=1, missing=None, n_estimators=100,\n",
       "       n_jobs=1, nthread=None, objective='binary:logistic', random_state=0,\n",
       "       reg_alpha=0, reg_lambda=1, scale_pos_weight=1, seed=None,\n",
       "       silent=True, subsample=1)"
      ]
     },
     "execution_count": 140,
     "metadata": {},
     "output_type": "execute_result"
    }
   ],
   "source": [
    "model =  XGBClassifier()\n",
    "model.fit(X, y)"
   ]
  },
  {
   "cell_type": "code",
   "execution_count": 141,
   "metadata": {},
   "outputs": [
    {
     "name": "stdout",
     "output_type": "stream",
     "text": [
      "[0.08265495 0.34031582 0.05761176 0.08581445 0.07284074 0.14332855\n",
      " 0.08399398 0.13343978]\n"
     ]
    }
   ],
   "source": [
    "print(model.feature_importances_)"
   ]
  },
  {
   "cell_type": "code",
   "execution_count": 142,
   "metadata": {},
   "outputs": [
    {
     "data": {
      "text/plain": [
       "<BarContainer object of 8 artists>"
      ]
     },
     "execution_count": 142,
     "metadata": {},
     "output_type": "execute_result"
    },
    {
     "data": {
      "image/png": "[encoded data removed]",
      "text/plain": [
       "<Figure size 432x288 with 1 Axes>"
      ]
     },
     "metadata": {
      "needs_background": "light"
     },
     "output_type": "display_data"
    }
   ],
   "source": [
    "plt.bar(range(len(model.feature_importances_)), model.feature_importances_)"
   ]
  },
  {
   "cell_type": "code",
   "execution_count": null,
   "metadata": {},
   "outputs": [],
   "source": [
    "# 단점 : 크기순으로 정리되니 않는다."
   ]
  },
  {
   "cell_type": "code",
   "execution_count": null,
   "metadata": {},
   "outputs": [],
   "source": []
  },
  {
   "cell_type": "code",
   "execution_count": 137,
   "metadata": {},
   "outputs": [],
   "source": [
    "# XGboost에 내장된 feature importance plot 사용하기"
   ]
  },
  {
   "cell_type": "code",
   "execution_count": 143,
   "metadata": {},
   "outputs": [
    {
     "data": {
      "text/plain": [
       "<matplotlib.axes._subplots.AxesSubplot at 0x28b40cc77f0>"
      ]
     },
     "execution_count": 143,
     "metadata": {},
     "output_type": "execute_result"
    },
    {
     "data": {
      "image/png": "[encoded data removed]",
      "text/plain": [
       "<Figure size 432x288 with 1 Axes>"
      ]
     },
     "metadata": {
      "needs_background": "light"
     },
     "output_type": "display_data"
    }
   ],
   "source": [
    "plot_importance(model)"
   ]
  },
  {
   "cell_type": "markdown",
   "metadata": {},
   "source": [
    "For Each Attribute: (all numeric-valued) \n",
    "1. Number of times pregnant  \n",
    "2. Plasma glucose concentration a 2 hours in an oral glucose tolerance test  \n",
    "3. Diastolic blood pressure (mm Hg)  \n",
    "4. Triceps skin fold thickness (mm)  \n",
    "5. 2-Hour serum insulin (mu U/ml)  \n",
    "6. Body mass index (weight in kg/(height in m)^2)  \n",
    "7. Diabetes pedigree function  \n",
    "8. Age (years)  \n",
    "9. Class variable (0 or 1)  "
   ]
  },
  {
   "cell_type": "code",
   "execution_count": null,
   "metadata": {},
   "outputs": [],
   "source": []
  },
  {
   "cell_type": "markdown",
   "metadata": {},
   "source": [
    "### 6.1 Feature Selection with XGBoost Feature Importance Scores"
   ]
  },
  {
   "cell_type": "code",
   "execution_count": 144,
   "metadata": {},
   "outputs": [],
   "source": [
    "# sklearn의 select from model 사용"
   ]
  },
  {
   "cell_type": "markdown",
   "metadata": {},
   "source": [
    "이 클래스는 pre-trained 모델을 사용한다. 이때 pre-trained 모델이란 전체 데이터셋으로 트레인된 모델을 말한다.  \n",
    "SelectFromModel인스턴스의 transform()메서드를 call하면 train과 test 데이터셋에 같은 피처를 선택한다."
   ]
  },
  {
   "cell_type": "code",
   "execution_count": 145,
   "metadata": {},
   "outputs": [],
   "source": [
    "import numpy as np\n",
    "import pandas as pd\n",
    "import matplotlib.pyplot as plt\n",
    "from xgboost import XGBClassifier\n",
    "from sklearn.model_selection import train_test_split\n",
    "from sklearn.metrics import accuracy_score\n",
    "from sklearn.feature_selection import SelectFromModel"
   ]
  },
  {
   "cell_type": "code",
   "execution_count": 147,
   "metadata": {},
   "outputs": [],
   "source": [
    "dataset = np.loadtxt('data/pima-indians-diabetes.csv', delimiter=',')\n",
    "X = dataset[:, :8]\n",
    "y = dataset[:, 8]\n",
    "X_train, X_test, y_train, y_test = train_test_split(X, y, \n",
    "                                    test_size=0.33, random_state=7)"
   ]
  },
  {
   "cell_type": "code",
   "execution_count": 150,
   "metadata": {},
   "outputs": [],
   "source": [
    "model = XGBClassifier()\n",
    "model.fit(X_train, y_train)\n",
    "y_pred = model.predict(X_test)\n",
    "accuracy = accuracy_score(y_test, y_pred)"
   ]
  },
  {
   "cell_type": "code",
   "execution_count": 151,
   "metadata": {},
   "outputs": [
    {
     "name": "stdout",
     "output_type": "stream",
     "text": [
      "Accuracy:  0.78\n"
     ]
    }
   ],
   "source": [
    "print('Accuracy: {0: .2f}'.format(accuracy))"
   ]
  },
  {
   "cell_type": "code",
   "execution_count": 153,
   "metadata": {},
   "outputs": [],
   "source": [
    "thresholds = np.sort(model.feature_importances_)"
   ]
  },
  {
   "cell_type": "code",
   "execution_count": 154,
   "metadata": {},
   "outputs": [
    {
     "data": {
      "text/plain": [
       "array([0.07756128, 0.08040862, 0.08493615, 0.09472006, 0.1021471 ,\n",
       "       0.10865614, 0.15973376, 0.29183695], dtype=float32)"
      ]
     },
     "execution_count": 154,
     "metadata": {},
     "output_type": "execute_result"
    }
   ],
   "source": [
    "thresholds # SelectFromMOdel 함수에서 threshold 설정으로 피처설정 제한가능"
   ]
  },
  {
   "cell_type": "code",
   "execution_count": null,
   "metadata": {},
   "outputs": [],
   "source": []
  },
  {
   "cell_type": "code",
   "execution_count": 159,
   "metadata": {},
   "outputs": [
    {
     "name": "stdout",
     "output_type": "stream",
     "text": [
      "Thresh =  0.078, n =  8, Accuracy =  77.95\n",
      "Thresh =  0.080, n =  7, Accuracy =  76.38\n",
      "Thresh =  0.085, n =  6, Accuracy =  77.56\n",
      "Thresh =  0.095, n =  5, Accuracy =  76.38\n",
      "Thresh =  0.102, n =  4, Accuracy =  76.38\n",
      "Thresh =  0.109, n =  3, Accuracy =  74.80\n",
      "Thresh =  0.160, n =  2, Accuracy =  75.98\n",
      "Thresh =  0.292, n =  1, Accuracy =  70.08\n"
     ]
    }
   ],
   "source": [
    "for thresh in thresholds:\n",
    "    selection = SelectFromModel(model, threshold = thresh, prefit = True)\n",
    "    # prefit=True로 설정하면, model을 별도로 fit하지 않는다.\n",
    "    #여기서는 앞에서 fit을 했기때문에 prefit을 True로 설정하여 pass한다.\n",
    "    select_X_train = selection.transform(X_train)\n",
    "    selection_model = XGBClassifier()\n",
    "    selection_model.fit(select_X_train, y_train)\n",
    "    \n",
    "    select_X_test = selection.transform(X_test)\n",
    "    y_pred = selection_model.predict(select_X_test)\n",
    "    accuracy = accuracy_score(y_test, y_pred)\n",
    "    print(\"Thresh = {0: .3f}, n = {1: d}, Accuracy = {2: .2f}\".\\\n",
    "          format(thresh, select_X_train.shape[1], accuracy*100))"
   ]
  },
  {
   "cell_type": "code",
   "execution_count": null,
   "metadata": {},
   "outputs": [],
   "source": []
  },
  {
   "cell_type": "markdown",
   "metadata": {},
   "source": [
    "## 7. Avoid Overfitting By Early Stopping With XGBoost In Python"
   ]
  },
  {
   "cell_type": "markdown",
   "metadata": {},
   "source": [
    "About early stopping as an approach to reducing overfitting of training data.  \n",
    "How to monitor the performance of an XGBoost model during training and plot the learning curve.  \n",
    "How to use early stopping to prematurely stop the training of an XGBoost model at an optimal epoch.  "
   ]
  },
  {
   "cell_type": "markdown",
   "metadata": {},
   "source": [
    "It works by monitoring the performance of the model that is being trained on a separate test dataset and stopping the training procedure once the performance on the test dataset has not improved after a fixed number of training iterations."
   ]
  },
  {
   "cell_type": "markdown",
   "metadata": {},
   "source": [
    "The performance measure may be the loss function that is being optimized to train the model (such as logarithmic loss), or an external metric of interest to the problem in general (such as classification accuracy)."
   ]
  },
  {
   "cell_type": "code",
   "execution_count": null,
   "metadata": {},
   "outputs": [],
   "source": []
  },
  {
   "cell_type": "markdown",
   "metadata": {},
   "source": [
    "XGBoost에서 지원하는 대표 평가지표  \n",
    "“rmse” for root mean squared error.  \n",
    "“mae” for mean absolute error.  \n",
    "“logloss” for binary logarithmic loss and “mlogloss” for multi-class log loss (cross entropy).  \n",
    "“error” for classification error.  \n",
    "“auc” for area under ROC curve.  "
   ]
  },
  {
   "cell_type": "code",
   "execution_count": 161,
   "metadata": {},
   "outputs": [],
   "source": [
    "import numpy as np\n",
    "import pandas as pd\n",
    "from xgboost import XGBClassifier\n",
    "from sklearn.model_selection import train_test_split\n",
    "from sklearn.metrics import accuracy_score"
   ]
  },
  {
   "cell_type": "code",
   "execution_count": 162,
   "metadata": {},
   "outputs": [],
   "source": [
    "dataset = np.loadtxt('data/pima-indians-diabetes.csv', delimiter=',')\n",
    "X = dataset[:, :8]\n",
    "y = dataset[:, 8]\n",
    "X_train, X_test, y_train, y_test = train_test_split(X, y, \n",
    "                                test_size = 0.33, random_state = 7)"
   ]
  },
  {
   "cell_type": "code",
   "execution_count": 163,
   "metadata": {},
   "outputs": [],
   "source": [
    "model = XGBClassifier()\n",
    "eval_set = [(X_test, y_test)] #eval_set은 test 데이터를 튜플로 설정해주면된다."
   ]
  },
  {
   "cell_type": "code",
   "execution_count": 164,
   "metadata": {},
   "outputs": [
    {
     "name": "stdout",
     "output_type": "stream",
     "text": [
      "[0]\tvalidation_0-error:0.259843\n",
      "[1]\tvalidation_0-error:0.26378\n",
      "[2]\tvalidation_0-error:0.26378\n",
      "[3]\tvalidation_0-error:0.255906\n",
      "[4]\tvalidation_0-error:0.255906\n",
      "[5]\tvalidation_0-error:0.26378\n",
      "[6]\tvalidation_0-error:0.23622\n",
      "[7]\tvalidation_0-error:0.255906\n",
      "[8]\tvalidation_0-error:0.248031\n",
      "[9]\tvalidation_0-error:0.248031\n",
      "[10]\tvalidation_0-error:0.248031\n",
      "[11]\tvalidation_0-error:0.232283\n",
      "[12]\tvalidation_0-error:0.228346\n",
      "[13]\tvalidation_0-error:0.228346\n",
      "[14]\tvalidation_0-error:0.228346\n",
      "[15]\tvalidation_0-error:0.228346\n",
      "[16]\tvalidation_0-error:0.228346\n",
      "[17]\tvalidation_0-error:0.228346\n",
      "[18]\tvalidation_0-error:0.224409\n",
      "[19]\tvalidation_0-error:0.232283\n",
      "[20]\tvalidation_0-error:0.232283\n",
      "[21]\tvalidation_0-error:0.23622\n",
      "[22]\tvalidation_0-error:0.23622\n",
      "[23]\tvalidation_0-error:0.232283\n",
      "[24]\tvalidation_0-error:0.228346\n",
      "[25]\tvalidation_0-error:0.228346\n",
      "[26]\tvalidation_0-error:0.224409\n",
      "[27]\tvalidation_0-error:0.224409\n",
      "[28]\tvalidation_0-error:0.228346\n",
      "[29]\tvalidation_0-error:0.232283\n",
      "[30]\tvalidation_0-error:0.228346\n",
      "[31]\tvalidation_0-error:0.224409\n",
      "[32]\tvalidation_0-error:0.224409\n",
      "[33]\tvalidation_0-error:0.228346\n",
      "[34]\tvalidation_0-error:0.228346\n",
      "[35]\tvalidation_0-error:0.224409\n",
      "[36]\tvalidation_0-error:0.228346\n",
      "[37]\tvalidation_0-error:0.224409\n",
      "[38]\tvalidation_0-error:0.216535\n",
      "[39]\tvalidation_0-error:0.220472\n",
      "[40]\tvalidation_0-error:0.216535\n",
      "[41]\tvalidation_0-error:0.216535\n",
      "[42]\tvalidation_0-error:0.216535\n",
      "[43]\tvalidation_0-error:0.216535\n",
      "[44]\tvalidation_0-error:0.212598\n",
      "[45]\tvalidation_0-error:0.224409\n",
      "[46]\tvalidation_0-error:0.224409\n",
      "[47]\tvalidation_0-error:0.220472\n",
      "[48]\tvalidation_0-error:0.224409\n",
      "[49]\tvalidation_0-error:0.232283\n",
      "[50]\tvalidation_0-error:0.228346\n",
      "[51]\tvalidation_0-error:0.224409\n",
      "[52]\tvalidation_0-error:0.224409\n",
      "[53]\tvalidation_0-error:0.232283\n",
      "[54]\tvalidation_0-error:0.228346\n",
      "[55]\tvalidation_0-error:0.228346\n",
      "[56]\tvalidation_0-error:0.224409\n",
      "[57]\tvalidation_0-error:0.224409\n",
      "[58]\tvalidation_0-error:0.224409\n",
      "[59]\tvalidation_0-error:0.224409\n",
      "[60]\tvalidation_0-error:0.224409\n",
      "[61]\tvalidation_0-error:0.224409\n",
      "[62]\tvalidation_0-error:0.224409\n",
      "[63]\tvalidation_0-error:0.224409\n",
      "[64]\tvalidation_0-error:0.224409\n",
      "[65]\tvalidation_0-error:0.224409\n",
      "[66]\tvalidation_0-error:0.220472\n",
      "[67]\tvalidation_0-error:0.216535\n",
      "[68]\tvalidation_0-error:0.216535\n",
      "[69]\tvalidation_0-error:0.216535\n",
      "[70]\tvalidation_0-error:0.216535\n",
      "[71]\tvalidation_0-error:0.216535\n",
      "[72]\tvalidation_0-error:0.216535\n",
      "[73]\tvalidation_0-error:0.216535\n",
      "[74]\tvalidation_0-error:0.216535\n",
      "[75]\tvalidation_0-error:0.216535\n",
      "[76]\tvalidation_0-error:0.216535\n",
      "[77]\tvalidation_0-error:0.216535\n",
      "[78]\tvalidation_0-error:0.216535\n",
      "[79]\tvalidation_0-error:0.212598\n",
      "[80]\tvalidation_0-error:0.212598\n",
      "[81]\tvalidation_0-error:0.212598\n",
      "[82]\tvalidation_0-error:0.212598\n",
      "[83]\tvalidation_0-error:0.212598\n",
      "[84]\tvalidation_0-error:0.208661\n",
      "[85]\tvalidation_0-error:0.204724\n",
      "[86]\tvalidation_0-error:0.212598\n",
      "[87]\tvalidation_0-error:0.212598\n",
      "[88]\tvalidation_0-error:0.212598\n",
      "[89]\tvalidation_0-error:0.204724\n",
      "[90]\tvalidation_0-error:0.208661\n",
      "[91]\tvalidation_0-error:0.208661\n",
      "[92]\tvalidation_0-error:0.208661\n",
      "[93]\tvalidation_0-error:0.208661\n",
      "[94]\tvalidation_0-error:0.208661\n",
      "[95]\tvalidation_0-error:0.212598\n",
      "[96]\tvalidation_0-error:0.204724\n",
      "[97]\tvalidation_0-error:0.212598\n",
      "[98]\tvalidation_0-error:0.216535\n",
      "[99]\tvalidation_0-error:0.220472\n"
     ]
    },
    {
     "data": {
      "text/plain": [
       "XGBClassifier(base_score=0.5, booster='gbtree', colsample_bylevel=1,\n",
       "       colsample_bytree=1, gamma=0, learning_rate=0.1, max_delta_step=0,\n",
       "       max_depth=3, min_child_weight=1, missing=None, n_estimators=100,\n",
       "       n_jobs=1, nthread=None, objective='binary:logistic', random_state=0,\n",
       "       reg_alpha=0, reg_lambda=1, scale_pos_weight=1, seed=None,\n",
       "       silent=True, subsample=1)"
      ]
     },
     "execution_count": 164,
     "metadata": {},
     "output_type": "execute_result"
    }
   ],
   "source": [
    "model.fit(X_train, y_train, eval_metric='error', eval_set=eval_set, \n",
    "         verbose =True) #verbose를 true로 설정하면 학습중에 로깅기록을 보여줌"
   ]
  },
  {
   "cell_type": "code",
   "execution_count": 165,
   "metadata": {},
   "outputs": [],
   "source": [
    "# 기록을 확인해보면 학습종료시점에 validation error가 거의 변동이 없음을 알수 있다."
   ]
  },
  {
   "cell_type": "code",
   "execution_count": 167,
   "metadata": {},
   "outputs": [
    {
     "name": "stdout",
     "output_type": "stream",
     "text": [
      "Accuracy: 77.95%\n"
     ]
    }
   ],
   "source": [
    "y_pred = model.predict(X_test)\n",
    "accuracy = accuracy_score(y_test, y_pred)\n",
    "print(\"Accuracy: %.2f%%\" % (accuracy * 100.0))"
   ]
  },
  {
   "cell_type": "code",
   "execution_count": null,
   "metadata": {},
   "outputs": [],
   "source": []
  },
  {
   "cell_type": "markdown",
   "metadata": {},
   "source": [
    "### 7.1 Evaluate XGBoost Models With Learning Curves"
   ]
  },
  {
   "cell_type": "code",
   "execution_count": 168,
   "metadata": {},
   "outputs": [],
   "source": [
    "# eval set에 train, test 데이터 셋을 설정하면 모델이 train, test 셋에서 얼마나 잘 동작하는지 확인가능"
   ]
  },
  {
   "cell_type": "code",
   "execution_count": 170,
   "metadata": {},
   "outputs": [],
   "source": [
    "import numpy as np\n",
    "import pandas as pd\n",
    "from xgboost import XGBClassifier\n",
    "from sklearn.model_selection import train_test_split\n",
    "from sklearn.metrics import accuracy_score\n",
    "import matplotlib.pyplot as plt\n",
    "%matplotlib inline"
   ]
  },
  {
   "cell_type": "code",
   "execution_count": 171,
   "metadata": {},
   "outputs": [],
   "source": [
    "dataset = np.loadtxt('data/pima-indians-diabetes.csv', delimiter=',')\n",
    "X = dataset[:, :8]\n",
    "y = dataset[:, 8]\n",
    "X_train, X_test, y_train, y_test = train_test_split(X, y, \n",
    "                                test_size = 0.33, random_state = 7)"
   ]
  },
  {
   "cell_type": "code",
   "execution_count": 172,
   "metadata": {},
   "outputs": [
    {
     "name": "stdout",
     "output_type": "stream",
     "text": [
      "[0]\tvalidation_0-error:0.22179\tvalidation_0-logloss:0.655154\tvalidation_1-error:0.259843\tvalidation_1-logloss:0.660186\n",
      "[1]\tvalidation_0-error:0.202335\tvalidation_0-logloss:0.623321\tvalidation_1-error:0.26378\tvalidation_1-logloss:0.634854\n",
      "[2]\tvalidation_0-error:0.196498\tvalidation_0-logloss:0.596815\tvalidation_1-error:0.26378\tvalidation_1-logloss:0.612239\n",
      "[3]\tvalidation_0-error:0.200389\tvalidation_0-logloss:0.574026\tvalidation_1-error:0.255906\tvalidation_1-logloss:0.593118\n",
      "[4]\tvalidation_0-error:0.202335\tvalidation_0-logloss:0.553853\tvalidation_1-error:0.255906\tvalidation_1-logloss:0.578303\n",
      "[5]\tvalidation_0-error:0.202335\tvalidation_0-logloss:0.536789\tvalidation_1-error:0.26378\tvalidation_1-logloss:0.564942\n",
      "[6]\tvalidation_0-error:0.194553\tvalidation_0-logloss:0.521477\tvalidation_1-error:0.23622\tvalidation_1-logloss:0.555113\n",
      "[7]\tvalidation_0-error:0.200389\tvalidation_0-logloss:0.507801\tvalidation_1-error:0.255906\tvalidation_1-logloss:0.54499\n",
      "[8]\tvalidation_0-error:0.194553\tvalidation_0-logloss:0.495257\tvalidation_1-error:0.248031\tvalidation_1-logloss:0.539151\n",
      "[9]\tvalidation_0-error:0.188716\tvalidation_0-logloss:0.484235\tvalidation_1-error:0.248031\tvalidation_1-logloss:0.531819\n",
      "[10]\tvalidation_0-error:0.184825\tvalidation_0-logloss:0.474463\tvalidation_1-error:0.248031\tvalidation_1-logloss:0.526065\n",
      "[11]\tvalidation_0-error:0.180934\tvalidation_0-logloss:0.465102\tvalidation_1-error:0.232283\tvalidation_1-logloss:0.51977\n",
      "[12]\tvalidation_0-error:0.177043\tvalidation_0-logloss:0.457304\tvalidation_1-error:0.228346\tvalidation_1-logloss:0.514979\n",
      "[13]\tvalidation_0-error:0.178988\tvalidation_0-logloss:0.44952\tvalidation_1-error:0.228346\tvalidation_1-logloss:0.50927\n",
      "[14]\tvalidation_0-error:0.177043\tvalidation_0-logloss:0.442121\tvalidation_1-error:0.228346\tvalidation_1-logloss:0.506086\n",
      "[15]\tvalidation_0-error:0.175097\tvalidation_0-logloss:0.435904\tvalidation_1-error:0.228346\tvalidation_1-logloss:0.503565\n",
      "[16]\tvalidation_0-error:0.173152\tvalidation_0-logloss:0.430177\tvalidation_1-error:0.228346\tvalidation_1-logloss:0.503591\n",
      "[17]\tvalidation_0-error:0.173152\tvalidation_0-logloss:0.425058\tvalidation_1-error:0.228346\tvalidation_1-logloss:0.500805\n",
      "[18]\tvalidation_0-error:0.173152\tvalidation_0-logloss:0.419677\tvalidation_1-error:0.224409\tvalidation_1-logloss:0.497605\n",
      "[19]\tvalidation_0-error:0.173152\tvalidation_0-logloss:0.415222\tvalidation_1-error:0.232283\tvalidation_1-logloss:0.495328\n",
      "[20]\tvalidation_0-error:0.167315\tvalidation_0-logloss:0.41033\tvalidation_1-error:0.232283\tvalidation_1-logloss:0.494777\n",
      "[21]\tvalidation_0-error:0.169261\tvalidation_0-logloss:0.405705\tvalidation_1-error:0.23622\tvalidation_1-logloss:0.494274\n",
      "[22]\tvalidation_0-error:0.171206\tvalidation_0-logloss:0.402225\tvalidation_1-error:0.23622\tvalidation_1-logloss:0.493333\n",
      "[23]\tvalidation_0-error:0.173152\tvalidation_0-logloss:0.398076\tvalidation_1-error:0.232283\tvalidation_1-logloss:0.492211\n",
      "[24]\tvalidation_0-error:0.177043\tvalidation_0-logloss:0.395053\tvalidation_1-error:0.228346\tvalidation_1-logloss:0.491936\n",
      "[25]\tvalidation_0-error:0.173152\tvalidation_0-logloss:0.392106\tvalidation_1-error:0.228346\tvalidation_1-logloss:0.490578\n",
      "[26]\tvalidation_0-error:0.177043\tvalidation_0-logloss:0.389044\tvalidation_1-error:0.224409\tvalidation_1-logloss:0.490895\n",
      "[27]\tvalidation_0-error:0.177043\tvalidation_0-logloss:0.385267\tvalidation_1-error:0.224409\tvalidation_1-logloss:0.490646\n",
      "[28]\tvalidation_0-error:0.177043\tvalidation_0-logloss:0.382761\tvalidation_1-error:0.228346\tvalidation_1-logloss:0.491911\n",
      "[29]\tvalidation_0-error:0.175097\tvalidation_0-logloss:0.380311\tvalidation_1-error:0.232283\tvalidation_1-logloss:0.491407\n",
      "[30]\tvalidation_0-error:0.175097\tvalidation_0-logloss:0.376631\tvalidation_1-error:0.228346\tvalidation_1-logloss:0.488828\n",
      "[31]\tvalidation_0-error:0.177043\tvalidation_0-logloss:0.374024\tvalidation_1-error:0.224409\tvalidation_1-logloss:0.487867\n",
      "[32]\tvalidation_0-error:0.178988\tvalidation_0-logloss:0.371973\tvalidation_1-error:0.224409\tvalidation_1-logloss:0.487297\n",
      "[33]\tvalidation_0-error:0.175097\tvalidation_0-logloss:0.369996\tvalidation_1-error:0.228346\tvalidation_1-logloss:0.487562\n",
      "[34]\tvalidation_0-error:0.171206\tvalidation_0-logloss:0.36738\tvalidation_1-error:0.228346\tvalidation_1-logloss:0.487789\n",
      "[35]\tvalidation_0-error:0.16537\tvalidation_0-logloss:0.363693\tvalidation_1-error:0.224409\tvalidation_1-logloss:0.487962\n",
      "[36]\tvalidation_0-error:0.177043\tvalidation_0-logloss:0.362079\tvalidation_1-error:0.228346\tvalidation_1-logloss:0.488218\n",
      "[37]\tvalidation_0-error:0.163424\tvalidation_0-logloss:0.35992\tvalidation_1-error:0.224409\tvalidation_1-logloss:0.489582\n",
      "[38]\tvalidation_0-error:0.169261\tvalidation_0-logloss:0.357945\tvalidation_1-error:0.216535\tvalidation_1-logloss:0.489334\n",
      "[39]\tvalidation_0-error:0.167315\tvalidation_0-logloss:0.35586\tvalidation_1-error:0.220472\tvalidation_1-logloss:0.490969\n",
      "[40]\tvalidation_0-error:0.16537\tvalidation_0-logloss:0.352872\tvalidation_1-error:0.216535\tvalidation_1-logloss:0.48978\n",
      "[41]\tvalidation_0-error:0.167315\tvalidation_0-logloss:0.351036\tvalidation_1-error:0.216535\tvalidation_1-logloss:0.490704\n",
      "[42]\tvalidation_0-error:0.159533\tvalidation_0-logloss:0.349321\tvalidation_1-error:0.216535\tvalidation_1-logloss:0.492369\n",
      "[43]\tvalidation_0-error:0.155642\tvalidation_0-logloss:0.346132\tvalidation_1-error:0.216535\tvalidation_1-logloss:0.492247\n",
      "[44]\tvalidation_0-error:0.151751\tvalidation_0-logloss:0.343088\tvalidation_1-error:0.212598\tvalidation_1-logloss:0.492908\n",
      "[45]\tvalidation_0-error:0.149805\tvalidation_0-logloss:0.340633\tvalidation_1-error:0.224409\tvalidation_1-logloss:0.491999\n",
      "[46]\tvalidation_0-error:0.145914\tvalidation_0-logloss:0.339084\tvalidation_1-error:0.224409\tvalidation_1-logloss:0.491278\n",
      "[47]\tvalidation_0-error:0.143969\tvalidation_0-logloss:0.336401\tvalidation_1-error:0.220472\tvalidation_1-logloss:0.491611\n",
      "[48]\tvalidation_0-error:0.143969\tvalidation_0-logloss:0.33483\tvalidation_1-error:0.224409\tvalidation_1-logloss:0.492568\n",
      "[49]\tvalidation_0-error:0.142023\tvalidation_0-logloss:0.331806\tvalidation_1-error:0.232283\tvalidation_1-logloss:0.494289\n",
      "[50]\tvalidation_0-error:0.136187\tvalidation_0-logloss:0.329741\tvalidation_1-error:0.228346\tvalidation_1-logloss:0.493236\n",
      "[51]\tvalidation_0-error:0.138132\tvalidation_0-logloss:0.328944\tvalidation_1-error:0.224409\tvalidation_1-logloss:0.493717\n",
      "[52]\tvalidation_0-error:0.138132\tvalidation_0-logloss:0.327021\tvalidation_1-error:0.224409\tvalidation_1-logloss:0.493996\n",
      "[53]\tvalidation_0-error:0.138132\tvalidation_0-logloss:0.324874\tvalidation_1-error:0.232283\tvalidation_1-logloss:0.494553\n",
      "[54]\tvalidation_0-error:0.132296\tvalidation_0-logloss:0.323564\tvalidation_1-error:0.228346\tvalidation_1-logloss:0.496089\n",
      "[55]\tvalidation_0-error:0.136187\tvalidation_0-logloss:0.321531\tvalidation_1-error:0.228346\tvalidation_1-logloss:0.497547\n",
      "[56]\tvalidation_0-error:0.134241\tvalidation_0-logloss:0.320381\tvalidation_1-error:0.224409\tvalidation_1-logloss:0.498491\n",
      "[57]\tvalidation_0-error:0.13035\tvalidation_0-logloss:0.318469\tvalidation_1-error:0.224409\tvalidation_1-logloss:0.497816\n",
      "[58]\tvalidation_0-error:0.13035\tvalidation_0-logloss:0.317531\tvalidation_1-error:0.224409\tvalidation_1-logloss:0.497638\n",
      "[59]\tvalidation_0-error:0.13035\tvalidation_0-logloss:0.315915\tvalidation_1-error:0.224409\tvalidation_1-logloss:0.499368\n",
      "[60]\tvalidation_0-error:0.128405\tvalidation_0-logloss:0.313413\tvalidation_1-error:0.224409\tvalidation_1-logloss:0.500054\n",
      "[61]\tvalidation_0-error:0.128405\tvalidation_0-logloss:0.312326\tvalidation_1-error:0.224409\tvalidation_1-logloss:0.500986\n",
      "[62]\tvalidation_0-error:0.126459\tvalidation_0-logloss:0.310292\tvalidation_1-error:0.224409\tvalidation_1-logloss:0.501629\n",
      "[63]\tvalidation_0-error:0.126459\tvalidation_0-logloss:0.309323\tvalidation_1-error:0.224409\tvalidation_1-logloss:0.501099\n",
      "[64]\tvalidation_0-error:0.126459\tvalidation_0-logloss:0.308337\tvalidation_1-error:0.224409\tvalidation_1-logloss:0.500962\n",
      "[65]\tvalidation_0-error:0.126459\tvalidation_0-logloss:0.307393\tvalidation_1-error:0.224409\tvalidation_1-logloss:0.502172\n",
      "[66]\tvalidation_0-error:0.122568\tvalidation_0-logloss:0.305182\tvalidation_1-error:0.220472\tvalidation_1-logloss:0.501892\n",
      "[67]\tvalidation_0-error:0.122568\tvalidation_0-logloss:0.303725\tvalidation_1-error:0.216535\tvalidation_1-logloss:0.502023\n"
     ]
    },
    {
     "name": "stdout",
     "output_type": "stream",
     "text": [
      "[68]\tvalidation_0-error:0.118677\tvalidation_0-logloss:0.302821\tvalidation_1-error:0.216535\tvalidation_1-logloss:0.503108\n",
      "[69]\tvalidation_0-error:0.120623\tvalidation_0-logloss:0.30198\tvalidation_1-error:0.216535\tvalidation_1-logloss:0.502673\n",
      "[70]\tvalidation_0-error:0.120623\tvalidation_0-logloss:0.29991\tvalidation_1-error:0.216535\tvalidation_1-logloss:0.502662\n",
      "[71]\tvalidation_0-error:0.122568\tvalidation_0-logloss:0.298055\tvalidation_1-error:0.216535\tvalidation_1-logloss:0.50343\n",
      "[72]\tvalidation_0-error:0.120623\tvalidation_0-logloss:0.296987\tvalidation_1-error:0.216535\tvalidation_1-logloss:0.504037\n",
      "[73]\tvalidation_0-error:0.120623\tvalidation_0-logloss:0.295123\tvalidation_1-error:0.216535\tvalidation_1-logloss:0.504439\n",
      "[74]\tvalidation_0-error:0.118677\tvalidation_0-logloss:0.294368\tvalidation_1-error:0.216535\tvalidation_1-logloss:0.503697\n",
      "[75]\tvalidation_0-error:0.118677\tvalidation_0-logloss:0.293513\tvalidation_1-error:0.216535\tvalidation_1-logloss:0.504477\n",
      "[76]\tvalidation_0-error:0.116732\tvalidation_0-logloss:0.292825\tvalidation_1-error:0.216535\tvalidation_1-logloss:0.504244\n",
      "[77]\tvalidation_0-error:0.116732\tvalidation_0-logloss:0.290549\tvalidation_1-error:0.216535\tvalidation_1-logloss:0.504356\n",
      "[78]\tvalidation_0-error:0.114786\tvalidation_0-logloss:0.288623\tvalidation_1-error:0.216535\tvalidation_1-logloss:0.505392\n",
      "[79]\tvalidation_0-error:0.114786\tvalidation_0-logloss:0.286707\tvalidation_1-error:0.212598\tvalidation_1-logloss:0.505377\n",
      "[80]\tvalidation_0-error:0.114786\tvalidation_0-logloss:0.285468\tvalidation_1-error:0.212598\tvalidation_1-logloss:0.505835\n",
      "[81]\tvalidation_0-error:0.11284\tvalidation_0-logloss:0.284848\tvalidation_1-error:0.212598\tvalidation_1-logloss:0.505567\n",
      "[82]\tvalidation_0-error:0.110895\tvalidation_0-logloss:0.282342\tvalidation_1-error:0.212598\tvalidation_1-logloss:0.507154\n",
      "[83]\tvalidation_0-error:0.11284\tvalidation_0-logloss:0.27989\tvalidation_1-error:0.212598\tvalidation_1-logloss:0.507149\n",
      "[84]\tvalidation_0-error:0.110895\tvalidation_0-logloss:0.278918\tvalidation_1-error:0.208661\tvalidation_1-logloss:0.507921\n",
      "[85]\tvalidation_0-error:0.105058\tvalidation_0-logloss:0.277478\tvalidation_1-error:0.204724\tvalidation_1-logloss:0.509487\n",
      "[86]\tvalidation_0-error:0.103113\tvalidation_0-logloss:0.275833\tvalidation_1-error:0.212598\tvalidation_1-logloss:0.509011\n",
      "[87]\tvalidation_0-error:0.103113\tvalidation_0-logloss:0.275338\tvalidation_1-error:0.212598\tvalidation_1-logloss:0.509105\n",
      "[88]\tvalidation_0-error:0.101167\tvalidation_0-logloss:0.273798\tvalidation_1-error:0.212598\tvalidation_1-logloss:0.510977\n",
      "[89]\tvalidation_0-error:0.105058\tvalidation_0-logloss:0.273078\tvalidation_1-error:0.204724\tvalidation_1-logloss:0.512553\n",
      "[90]\tvalidation_0-error:0.105058\tvalidation_0-logloss:0.272368\tvalidation_1-error:0.208661\tvalidation_1-logloss:0.513817\n",
      "[91]\tvalidation_0-error:0.105058\tvalidation_0-logloss:0.271264\tvalidation_1-error:0.208661\tvalidation_1-logloss:0.513864\n",
      "[92]\tvalidation_0-error:0.103113\tvalidation_0-logloss:0.269753\tvalidation_1-error:0.208661\tvalidation_1-logloss:0.514176\n",
      "[93]\tvalidation_0-error:0.103113\tvalidation_0-logloss:0.269307\tvalidation_1-error:0.208661\tvalidation_1-logloss:0.514497\n",
      "[94]\tvalidation_0-error:0.101167\tvalidation_0-logloss:0.268809\tvalidation_1-error:0.208661\tvalidation_1-logloss:0.513991\n",
      "[95]\tvalidation_0-error:0.101167\tvalidation_0-logloss:0.268196\tvalidation_1-error:0.212598\tvalidation_1-logloss:0.514902\n",
      "[96]\tvalidation_0-error:0.095331\tvalidation_0-logloss:0.266979\tvalidation_1-error:0.204724\tvalidation_1-logloss:0.516441\n",
      "[97]\tvalidation_0-error:0.095331\tvalidation_0-logloss:0.265722\tvalidation_1-error:0.212598\tvalidation_1-logloss:0.516317\n",
      "[98]\tvalidation_0-error:0.097276\tvalidation_0-logloss:0.26507\tvalidation_1-error:0.216535\tvalidation_1-logloss:0.517809\n",
      "[99]\tvalidation_0-error:0.097276\tvalidation_0-logloss:0.264441\tvalidation_1-error:0.220472\tvalidation_1-logloss:0.518922\n"
     ]
    },
    {
     "data": {
      "text/plain": [
       "XGBClassifier(base_score=0.5, booster='gbtree', colsample_bylevel=1,\n",
       "       colsample_bytree=1, gamma=0, learning_rate=0.1, max_delta_step=0,\n",
       "       max_depth=3, min_child_weight=1, missing=None, n_estimators=100,\n",
       "       n_jobs=1, nthread=None, objective='binary:logistic', random_state=0,\n",
       "       reg_alpha=0, reg_lambda=1, scale_pos_weight=1, seed=None,\n",
       "       silent=True, subsample=1)"
      ]
     },
     "execution_count": 172,
     "metadata": {},
     "output_type": "execute_result"
    }
   ],
   "source": [
    "model = XGBClassifier()\n",
    "eval_set = [(X_train, y_train), (X_test, y_test)]\n",
    "model.fit(X_train, y_train, eval_metric = ['error', 'logloss'], \n",
    "          eval_set = eval_set, verbose = True)"
   ]
  },
  {
   "cell_type": "code",
   "execution_count": 173,
   "metadata": {},
   "outputs": [],
   "source": [
    "# 위에서 validation0은 학습용, validation1은 시험용 결과이다. overfitting 확인"
   ]
  },
  {
   "cell_type": "code",
   "execution_count": 174,
   "metadata": {},
   "outputs": [
    {
     "name": "stdout",
     "output_type": "stream",
     "text": [
      "Accuracy :  77.95%\n"
     ]
    }
   ],
   "source": [
    "y_pred = model.predict(X_test)\n",
    "accuracy = accuracy_score(y_test, predictions)\n",
    "print('Accuracy : {0: .2f}%'.format(accuracy*100))"
   ]
  },
  {
   "cell_type": "code",
   "execution_count": 175,
   "metadata": {},
   "outputs": [],
   "source": [
    "results = model.evals_result()"
   ]
  },
  {
   "cell_type": "code",
   "execution_count": 176,
   "metadata": {},
   "outputs": [
    {
     "data": {
      "text/plain": [
       "{'validation_0': {'error': [0.22179,\n",
       "   0.202335,\n",
       "   0.196498,\n",
       "   0.200389,\n",
       "   0.202335,\n",
       "   0.202335,\n",
       "   0.194553,\n",
       "   0.200389,\n",
       "   0.194553,\n",
       "   0.188716,\n",
       "   0.184825,\n",
       "   0.180934,\n",
       "   0.177043,\n",
       "   0.178988,\n",
       "   0.177043,\n",
       "   0.175097,\n",
       "   0.173152,\n",
       "   0.173152,\n",
       "   0.173152,\n",
       "   0.173152,\n",
       "   0.167315,\n",
       "   0.169261,\n",
       "   0.171206,\n",
       "   0.173152,\n",
       "   0.177043,\n",
       "   0.173152,\n",
       "   0.177043,\n",
       "   0.177043,\n",
       "   0.177043,\n",
       "   0.175097,\n",
       "   0.175097,\n",
       "   0.177043,\n",
       "   0.178988,\n",
       "   0.175097,\n",
       "   0.171206,\n",
       "   0.16537,\n",
       "   0.177043,\n",
       "   0.163424,\n",
       "   0.169261,\n",
       "   0.167315,\n",
       "   0.16537,\n",
       "   0.167315,\n",
       "   0.159533,\n",
       "   0.155642,\n",
       "   0.151751,\n",
       "   0.149805,\n",
       "   0.145914,\n",
       "   0.143969,\n",
       "   0.143969,\n",
       "   0.142023,\n",
       "   0.136187,\n",
       "   0.138132,\n",
       "   0.138132,\n",
       "   0.138132,\n",
       "   0.132296,\n",
       "   0.136187,\n",
       "   0.134241,\n",
       "   0.13035,\n",
       "   0.13035,\n",
       "   0.13035,\n",
       "   0.128405,\n",
       "   0.128405,\n",
       "   0.126459,\n",
       "   0.126459,\n",
       "   0.126459,\n",
       "   0.126459,\n",
       "   0.122568,\n",
       "   0.122568,\n",
       "   0.118677,\n",
       "   0.120623,\n",
       "   0.120623,\n",
       "   0.122568,\n",
       "   0.120623,\n",
       "   0.120623,\n",
       "   0.118677,\n",
       "   0.118677,\n",
       "   0.116732,\n",
       "   0.116732,\n",
       "   0.114786,\n",
       "   0.114786,\n",
       "   0.114786,\n",
       "   0.11284,\n",
       "   0.110895,\n",
       "   0.11284,\n",
       "   0.110895,\n",
       "   0.105058,\n",
       "   0.103113,\n",
       "   0.103113,\n",
       "   0.101167,\n",
       "   0.105058,\n",
       "   0.105058,\n",
       "   0.105058,\n",
       "   0.103113,\n",
       "   0.103113,\n",
       "   0.101167,\n",
       "   0.101167,\n",
       "   0.095331,\n",
       "   0.095331,\n",
       "   0.097276,\n",
       "   0.097276],\n",
       "  'logloss': [0.655154,\n",
       "   0.623321,\n",
       "   0.596815,\n",
       "   0.574026,\n",
       "   0.553853,\n",
       "   0.536789,\n",
       "   0.521477,\n",
       "   0.507801,\n",
       "   0.495257,\n",
       "   0.484235,\n",
       "   0.474463,\n",
       "   0.465102,\n",
       "   0.457304,\n",
       "   0.44952,\n",
       "   0.442121,\n",
       "   0.435904,\n",
       "   0.430177,\n",
       "   0.425058,\n",
       "   0.419677,\n",
       "   0.415222,\n",
       "   0.41033,\n",
       "   0.405705,\n",
       "   0.402225,\n",
       "   0.398076,\n",
       "   0.395053,\n",
       "   0.392106,\n",
       "   0.389044,\n",
       "   0.385267,\n",
       "   0.382761,\n",
       "   0.380311,\n",
       "   0.376631,\n",
       "   0.374024,\n",
       "   0.371973,\n",
       "   0.369996,\n",
       "   0.36738,\n",
       "   0.363693,\n",
       "   0.362079,\n",
       "   0.35992,\n",
       "   0.357945,\n",
       "   0.35586,\n",
       "   0.352872,\n",
       "   0.351036,\n",
       "   0.349321,\n",
       "   0.346132,\n",
       "   0.343088,\n",
       "   0.340633,\n",
       "   0.339084,\n",
       "   0.336401,\n",
       "   0.33483,\n",
       "   0.331806,\n",
       "   0.329741,\n",
       "   0.328944,\n",
       "   0.327021,\n",
       "   0.324874,\n",
       "   0.323564,\n",
       "   0.321531,\n",
       "   0.320381,\n",
       "   0.318469,\n",
       "   0.317531,\n",
       "   0.315915,\n",
       "   0.313413,\n",
       "   0.312326,\n",
       "   0.310292,\n",
       "   0.309323,\n",
       "   0.308337,\n",
       "   0.307393,\n",
       "   0.305182,\n",
       "   0.303725,\n",
       "   0.302821,\n",
       "   0.30198,\n",
       "   0.29991,\n",
       "   0.298055,\n",
       "   0.296987,\n",
       "   0.295123,\n",
       "   0.294368,\n",
       "   0.293513,\n",
       "   0.292825,\n",
       "   0.290549,\n",
       "   0.288623,\n",
       "   0.286707,\n",
       "   0.285468,\n",
       "   0.284848,\n",
       "   0.282342,\n",
       "   0.27989,\n",
       "   0.278918,\n",
       "   0.277478,\n",
       "   0.275833,\n",
       "   0.275338,\n",
       "   0.273798,\n",
       "   0.273078,\n",
       "   0.272368,\n",
       "   0.271264,\n",
       "   0.269753,\n",
       "   0.269307,\n",
       "   0.268809,\n",
       "   0.268196,\n",
       "   0.266979,\n",
       "   0.265722,\n",
       "   0.26507,\n",
       "   0.264441]},\n",
       " 'validation_1': {'error': [0.259843,\n",
       "   0.26378,\n",
       "   0.26378,\n",
       "   0.255906,\n",
       "   0.255906,\n",
       "   0.26378,\n",
       "   0.23622,\n",
       "   0.255906,\n",
       "   0.248031,\n",
       "   0.248031,\n",
       "   0.248031,\n",
       "   0.232283,\n",
       "   0.228346,\n",
       "   0.228346,\n",
       "   0.228346,\n",
       "   0.228346,\n",
       "   0.228346,\n",
       "   0.228346,\n",
       "   0.224409,\n",
       "   0.232283,\n",
       "   0.232283,\n",
       "   0.23622,\n",
       "   0.23622,\n",
       "   0.232283,\n",
       "   0.228346,\n",
       "   0.228346,\n",
       "   0.224409,\n",
       "   0.224409,\n",
       "   0.228346,\n",
       "   0.232283,\n",
       "   0.228346,\n",
       "   0.224409,\n",
       "   0.224409,\n",
       "   0.228346,\n",
       "   0.228346,\n",
       "   0.224409,\n",
       "   0.228346,\n",
       "   0.224409,\n",
       "   0.216535,\n",
       "   0.220472,\n",
       "   0.216535,\n",
       "   0.216535,\n",
       "   0.216535,\n",
       "   0.216535,\n",
       "   0.212598,\n",
       "   0.224409,\n",
       "   0.224409,\n",
       "   0.220472,\n",
       "   0.224409,\n",
       "   0.232283,\n",
       "   0.228346,\n",
       "   0.224409,\n",
       "   0.224409,\n",
       "   0.232283,\n",
       "   0.228346,\n",
       "   0.228346,\n",
       "   0.224409,\n",
       "   0.224409,\n",
       "   0.224409,\n",
       "   0.224409,\n",
       "   0.224409,\n",
       "   0.224409,\n",
       "   0.224409,\n",
       "   0.224409,\n",
       "   0.224409,\n",
       "   0.224409,\n",
       "   0.220472,\n",
       "   0.216535,\n",
       "   0.216535,\n",
       "   0.216535,\n",
       "   0.216535,\n",
       "   0.216535,\n",
       "   0.216535,\n",
       "   0.216535,\n",
       "   0.216535,\n",
       "   0.216535,\n",
       "   0.216535,\n",
       "   0.216535,\n",
       "   0.216535,\n",
       "   0.212598,\n",
       "   0.212598,\n",
       "   0.212598,\n",
       "   0.212598,\n",
       "   0.212598,\n",
       "   0.208661,\n",
       "   0.204724,\n",
       "   0.212598,\n",
       "   0.212598,\n",
       "   0.212598,\n",
       "   0.204724,\n",
       "   0.208661,\n",
       "   0.208661,\n",
       "   0.208661,\n",
       "   0.208661,\n",
       "   0.208661,\n",
       "   0.212598,\n",
       "   0.204724,\n",
       "   0.212598,\n",
       "   0.216535,\n",
       "   0.220472],\n",
       "  'logloss': [0.660186,\n",
       "   0.634854,\n",
       "   0.612239,\n",
       "   0.593118,\n",
       "   0.578303,\n",
       "   0.564942,\n",
       "   0.555113,\n",
       "   0.54499,\n",
       "   0.539151,\n",
       "   0.531819,\n",
       "   0.526065,\n",
       "   0.51977,\n",
       "   0.514979,\n",
       "   0.50927,\n",
       "   0.506086,\n",
       "   0.503565,\n",
       "   0.503591,\n",
       "   0.500805,\n",
       "   0.497605,\n",
       "   0.495328,\n",
       "   0.494777,\n",
       "   0.494274,\n",
       "   0.493333,\n",
       "   0.492211,\n",
       "   0.491936,\n",
       "   0.490578,\n",
       "   0.490895,\n",
       "   0.490646,\n",
       "   0.491911,\n",
       "   0.491407,\n",
       "   0.488828,\n",
       "   0.487867,\n",
       "   0.487297,\n",
       "   0.487562,\n",
       "   0.487789,\n",
       "   0.487962,\n",
       "   0.488218,\n",
       "   0.489582,\n",
       "   0.489334,\n",
       "   0.490969,\n",
       "   0.48978,\n",
       "   0.490704,\n",
       "   0.492369,\n",
       "   0.492247,\n",
       "   0.492908,\n",
       "   0.491999,\n",
       "   0.491278,\n",
       "   0.491611,\n",
       "   0.492568,\n",
       "   0.494289,\n",
       "   0.493236,\n",
       "   0.493717,\n",
       "   0.493996,\n",
       "   0.494553,\n",
       "   0.496089,\n",
       "   0.497547,\n",
       "   0.498491,\n",
       "   0.497816,\n",
       "   0.497638,\n",
       "   0.499368,\n",
       "   0.500054,\n",
       "   0.500986,\n",
       "   0.501629,\n",
       "   0.501099,\n",
       "   0.500962,\n",
       "   0.502172,\n",
       "   0.501892,\n",
       "   0.502023,\n",
       "   0.503108,\n",
       "   0.502673,\n",
       "   0.502662,\n",
       "   0.50343,\n",
       "   0.504037,\n",
       "   0.504439,\n",
       "   0.503697,\n",
       "   0.504477,\n",
       "   0.504244,\n",
       "   0.504356,\n",
       "   0.505392,\n",
       "   0.505377,\n",
       "   0.505835,\n",
       "   0.505567,\n",
       "   0.507154,\n",
       "   0.507149,\n",
       "   0.507921,\n",
       "   0.509487,\n",
       "   0.509011,\n",
       "   0.509105,\n",
       "   0.510977,\n",
       "   0.512553,\n",
       "   0.513817,\n",
       "   0.513864,\n",
       "   0.514176,\n",
       "   0.514497,\n",
       "   0.513991,\n",
       "   0.514902,\n",
       "   0.516441,\n",
       "   0.516317,\n",
       "   0.517809,\n",
       "   0.518922]}}"
      ]
     },
     "execution_count": 176,
     "metadata": {},
     "output_type": "execute_result"
    }
   ],
   "source": [
    "results"
   ]
  },
  {
   "cell_type": "code",
   "execution_count": 177,
   "metadata": {},
   "outputs": [
    {
     "name": "stdout",
     "output_type": "stream",
     "text": [
      "{'validation_0': {'error': [0.22179, 0.202335, 0.196498, 0.200389, 0.202335, 0.202335, 0.194553, 0.200389, 0.194553, 0.188716, 0.184825, 0.180934, 0.177043, 0.178988, 0.177043, 0.175097, 0.173152, 0.173152, 0.173152, 0.173152, 0.167315, 0.169261, 0.171206, 0.173152, 0.177043, 0.173152, 0.177043, 0.177043, 0.177043, 0.175097, 0.175097, 0.177043, 0.178988, 0.175097, 0.171206, 0.16537, 0.177043, 0.163424, 0.169261, 0.167315, 0.16537, 0.167315, 0.159533, 0.155642, 0.151751, 0.149805, 0.145914, 0.143969, 0.143969, 0.142023, 0.136187, 0.138132, 0.138132, 0.138132, 0.132296, 0.136187, 0.134241, 0.13035, 0.13035, 0.13035, 0.128405, 0.128405, 0.126459, 0.126459, 0.126459, 0.126459, 0.122568, 0.122568, 0.118677, 0.120623, 0.120623, 0.122568, 0.120623, 0.120623, 0.118677, 0.118677, 0.116732, 0.116732, 0.114786, 0.114786, 0.114786, 0.11284, 0.110895, 0.11284, 0.110895, 0.105058, 0.103113, 0.103113, 0.101167, 0.105058, 0.105058, 0.105058, 0.103113, 0.103113, 0.101167, 0.101167, 0.095331, 0.095331, 0.097276, 0.097276], 'logloss': [0.655154, 0.623321, 0.596815, 0.574026, 0.553853, 0.536789, 0.521477, 0.507801, 0.495257, 0.484235, 0.474463, 0.465102, 0.457304, 0.44952, 0.442121, 0.435904, 0.430177, 0.425058, 0.419677, 0.415222, 0.41033, 0.405705, 0.402225, 0.398076, 0.395053, 0.392106, 0.389044, 0.385267, 0.382761, 0.380311, 0.376631, 0.374024, 0.371973, 0.369996, 0.36738, 0.363693, 0.362079, 0.35992, 0.357945, 0.35586, 0.352872, 0.351036, 0.349321, 0.346132, 0.343088, 0.340633, 0.339084, 0.336401, 0.33483, 0.331806, 0.329741, 0.328944, 0.327021, 0.324874, 0.323564, 0.321531, 0.320381, 0.318469, 0.317531, 0.315915, 0.313413, 0.312326, 0.310292, 0.309323, 0.308337, 0.307393, 0.305182, 0.303725, 0.302821, 0.30198, 0.29991, 0.298055, 0.296987, 0.295123, 0.294368, 0.293513, 0.292825, 0.290549, 0.288623, 0.286707, 0.285468, 0.284848, 0.282342, 0.27989, 0.278918, 0.277478, 0.275833, 0.275338, 0.273798, 0.273078, 0.272368, 0.271264, 0.269753, 0.269307, 0.268809, 0.268196, 0.266979, 0.265722, 0.26507, 0.264441]}, 'validation_1': {'error': [0.259843, 0.26378, 0.26378, 0.255906, 0.255906, 0.26378, 0.23622, 0.255906, 0.248031, 0.248031, 0.248031, 0.232283, 0.228346, 0.228346, 0.228346, 0.228346, 0.228346, 0.228346, 0.224409, 0.232283, 0.232283, 0.23622, 0.23622, 0.232283, 0.228346, 0.228346, 0.224409, 0.224409, 0.228346, 0.232283, 0.228346, 0.224409, 0.224409, 0.228346, 0.228346, 0.224409, 0.228346, 0.224409, 0.216535, 0.220472, 0.216535, 0.216535, 0.216535, 0.216535, 0.212598, 0.224409, 0.224409, 0.220472, 0.224409, 0.232283, 0.228346, 0.224409, 0.224409, 0.232283, 0.228346, 0.228346, 0.224409, 0.224409, 0.224409, 0.224409, 0.224409, 0.224409, 0.224409, 0.224409, 0.224409, 0.224409, 0.220472, 0.216535, 0.216535, 0.216535, 0.216535, 0.216535, 0.216535, 0.216535, 0.216535, 0.216535, 0.216535, 0.216535, 0.216535, 0.212598, 0.212598, 0.212598, 0.212598, 0.212598, 0.208661, 0.204724, 0.212598, 0.212598, 0.212598, 0.204724, 0.208661, 0.208661, 0.208661, 0.208661, 0.208661, 0.212598, 0.204724, 0.212598, 0.216535, 0.220472], 'logloss': [0.660186, 0.634854, 0.612239, 0.593118, 0.578303, 0.564942, 0.555113, 0.54499, 0.539151, 0.531819, 0.526065, 0.51977, 0.514979, 0.50927, 0.506086, 0.503565, 0.503591, 0.500805, 0.497605, 0.495328, 0.494777, 0.494274, 0.493333, 0.492211, 0.491936, 0.490578, 0.490895, 0.490646, 0.491911, 0.491407, 0.488828, 0.487867, 0.487297, 0.487562, 0.487789, 0.487962, 0.488218, 0.489582, 0.489334, 0.490969, 0.48978, 0.490704, 0.492369, 0.492247, 0.492908, 0.491999, 0.491278, 0.491611, 0.492568, 0.494289, 0.493236, 0.493717, 0.493996, 0.494553, 0.496089, 0.497547, 0.498491, 0.497816, 0.497638, 0.499368, 0.500054, 0.500986, 0.501629, 0.501099, 0.500962, 0.502172, 0.501892, 0.502023, 0.503108, 0.502673, 0.502662, 0.50343, 0.504037, 0.504439, 0.503697, 0.504477, 0.504244, 0.504356, 0.505392, 0.505377, 0.505835, 0.505567, 0.507154, 0.507149, 0.507921, 0.509487, 0.509011, 0.509105, 0.510977, 0.512553, 0.513817, 0.513864, 0.514176, 0.514497, 0.513991, 0.514902, 0.516441, 0.516317, 0.517809, 0.518922]}}\n"
     ]
    }
   ],
   "source": [
    "print(results)"
   ]
  },
  {
   "cell_type": "code",
   "execution_count": 178,
   "metadata": {},
   "outputs": [],
   "source": [
    "# results['validation_0']['error']"
   ]
  },
  {
   "cell_type": "code",
   "execution_count": 179,
   "metadata": {},
   "outputs": [],
   "source": [
    "epochs = len(results['validation_0']['error'])\n",
    "x_axis = range(0, epochs)"
   ]
  },
  {
   "cell_type": "code",
   "execution_count": 180,
   "metadata": {},
   "outputs": [
    {
     "data": {
      "image/png": "[encoded data removed]",
      "text/plain": [
       "<Figure size 720x432 with 1 Axes>"
      ]
     },
     "metadata": {
      "needs_background": "light"
     },
     "output_type": "display_data"
    }
   ],
   "source": [
    "fig, ax = plt.subplots(figsize = (10, 6))\n",
    "ax.plot(x_axis, results['validation_0']['logloss'], label = 'Train')\n",
    "ax.plot(x_axis, results['validation_1']['logloss'], label = 'Test')\n",
    "ax.legend()\n",
    "plt.ylabel('Log Loss')\n",
    "plt.title('XGBoost Log Loss')\n",
    "plt.show()"
   ]
  },
  {
   "cell_type": "code",
   "execution_count": 181,
   "metadata": {},
   "outputs": [
    {
     "data": {
      "image/png": "[encoded data removed]",
      "text/plain": [
       "<Figure size 720x432 with 1 Axes>"
      ]
     },
     "metadata": {
      "needs_background": "light"
     },
     "output_type": "display_data"
    }
   ],
   "source": [
    "fig, ax = plt.subplots(figsize = (10, 6))\n",
    "ax.plot(x_axis, results['validation_0']['error'], label = 'Train')\n",
    "ax.plot(x_axis, results['validation_1']['error'], label = 'Test')\n",
    "ax.legend()\n",
    "plt.ylabel('Classification Error')\n",
    "plt.title('XGBoost Classification Error')\n",
    "plt.show()"
   ]
  },
  {
   "cell_type": "markdown",
   "metadata": {},
   "source": [
    "### log loss 확인결과 epoch 20 ~ 40 사이에서 학습을 멈춰야 했음을 알수가 있다.\n",
    "\n",
    "### 그 아래 classification error 차트에서도 확인된다."
   ]
  },
  {
   "cell_type": "code",
   "execution_count": null,
   "metadata": {},
   "outputs": [],
   "source": []
  },
  {
   "cell_type": "markdown",
   "metadata": {},
   "source": [
    "### 7.2 Early Stopping With XGBoost"
   ]
  },
  {
   "cell_type": "markdown",
   "metadata": {},
   "source": [
    "GBoost supports early stopping after a fixed number of iterations."
   ]
  },
  {
   "cell_type": "markdown",
   "metadata": {},
   "source": [
    "early_stopping_rounds를 통해서 개선이 관측되지 않으면 정지하는 window 설정이 가능하다."
   ]
  },
  {
   "cell_type": "code",
   "execution_count": 184,
   "metadata": {},
   "outputs": [],
   "source": [
    "import numpy as np\n",
    "import pandas as pd\n",
    "from xgboost import XGBClassifier\n",
    "from sklearn.model_selection import train_test_split\n",
    "from sklearn.metrics import accuracy_score\n",
    "import matplotlib.pyplot as plt\n",
    "%matplotlib inline"
   ]
  },
  {
   "cell_type": "code",
   "execution_count": 185,
   "metadata": {},
   "outputs": [],
   "source": [
    "dataset = np.loadtxt('data/pima-indians-diabetes.csv', delimiter=',')\n",
    "X = dataset[:, :8]\n",
    "y = dataset[:, 8]\n",
    "X_train, X_test, y_train, y_test = train_test_split(X, y, \n",
    "                                test_size = 0.33, random_state = 7)"
   ]
  },
  {
   "cell_type": "code",
   "execution_count": 186,
   "metadata": {},
   "outputs": [
    {
     "name": "stdout",
     "output_type": "stream",
     "text": [
      "[0]\tvalidation_0-logloss:0.660186\n",
      "Will train until validation_0-logloss hasn't improved in 10 rounds.\n",
      "[1]\tvalidation_0-logloss:0.634854\n",
      "[2]\tvalidation_0-logloss:0.612239\n",
      "[3]\tvalidation_0-logloss:0.593118\n",
      "[4]\tvalidation_0-logloss:0.578303\n",
      "[5]\tvalidation_0-logloss:0.564942\n",
      "[6]\tvalidation_0-logloss:0.555113\n",
      "[7]\tvalidation_0-logloss:0.54499\n",
      "[8]\tvalidation_0-logloss:0.539151\n",
      "[9]\tvalidation_0-logloss:0.531819\n",
      "[10]\tvalidation_0-logloss:0.526065\n",
      "[11]\tvalidation_0-logloss:0.51977\n",
      "[12]\tvalidation_0-logloss:0.514979\n",
      "[13]\tvalidation_0-logloss:0.50927\n",
      "[14]\tvalidation_0-logloss:0.506086\n",
      "[15]\tvalidation_0-logloss:0.503565\n",
      "[16]\tvalidation_0-logloss:0.503591\n",
      "[17]\tvalidation_0-logloss:0.500805\n",
      "[18]\tvalidation_0-logloss:0.497605\n",
      "[19]\tvalidation_0-logloss:0.495328\n",
      "[20]\tvalidation_0-logloss:0.494777\n",
      "[21]\tvalidation_0-logloss:0.494274\n",
      "[22]\tvalidation_0-logloss:0.493333\n",
      "[23]\tvalidation_0-logloss:0.492211\n",
      "[24]\tvalidation_0-logloss:0.491936\n",
      "[25]\tvalidation_0-logloss:0.490578\n",
      "[26]\tvalidation_0-logloss:0.490895\n",
      "[27]\tvalidation_0-logloss:0.490646\n",
      "[28]\tvalidation_0-logloss:0.491911\n",
      "[29]\tvalidation_0-logloss:0.491407\n",
      "[30]\tvalidation_0-logloss:0.488828\n",
      "[31]\tvalidation_0-logloss:0.487867\n",
      "[32]\tvalidation_0-logloss:0.487297\n",
      "[33]\tvalidation_0-logloss:0.487562\n",
      "[34]\tvalidation_0-logloss:0.487789\n",
      "[35]\tvalidation_0-logloss:0.487962\n",
      "[36]\tvalidation_0-logloss:0.488218\n",
      "[37]\tvalidation_0-logloss:0.489582\n",
      "[38]\tvalidation_0-logloss:0.489334\n",
      "[39]\tvalidation_0-logloss:0.490969\n",
      "[40]\tvalidation_0-logloss:0.48978\n",
      "[41]\tvalidation_0-logloss:0.490704\n",
      "[42]\tvalidation_0-logloss:0.492369\n",
      "Stopping. Best iteration:\n",
      "[32]\tvalidation_0-logloss:0.487297\n",
      "\n"
     ]
    },
    {
     "data": {
      "text/plain": [
       "XGBClassifier(base_score=0.5, booster='gbtree', colsample_bylevel=1,\n",
       "       colsample_bytree=1, gamma=0, learning_rate=0.1, max_delta_step=0,\n",
       "       max_depth=3, min_child_weight=1, missing=None, n_estimators=100,\n",
       "       n_jobs=1, nthread=None, objective='binary:logistic', random_state=0,\n",
       "       reg_alpha=0, reg_lambda=1, scale_pos_weight=1, seed=None,\n",
       "       silent=True, subsample=1)"
      ]
     },
     "execution_count": 186,
     "metadata": {},
     "output_type": "execute_result"
    }
   ],
   "source": [
    "model = XGBClassifier()\n",
    "eval_set = [(X_test, y_test)]\n",
    "model.fit(X_train, y_train, early_stopping_rounds=10, \n",
    "          eval_metric=\"logloss\", eval_set=eval_set, verbose=True)"
   ]
  },
  {
   "cell_type": "code",
   "execution_count": 188,
   "metadata": {},
   "outputs": [
    {
     "name": "stdout",
     "output_type": "stream",
     "text": [
      "Accuracy: 77.56%\n"
     ]
    }
   ],
   "source": [
    "y_pred = model.predict(X_test)\n",
    "accuracy = accuracy_score(y_test, y_pred)\n",
    "print(\"Accuracy: %.2f%%\" % (accuracy * 100.0))"
   ]
  },
  {
   "cell_type": "code",
   "execution_count": 189,
   "metadata": {},
   "outputs": [],
   "source": [
    "# 학습이 42 epoch에서 정지되었음을 알수가 있다. \n",
    "# 앞에서 수동으로 확인한 것과 유사하다. \n",
    "# 모델은 32epoch 시점을 best로 선정하였다."
   ]
  },
  {
   "cell_type": "markdown",
   "metadata": {},
   "source": [
    "It is generally a good idea to select the early_stopping_rounds as a reasonable function of the total number of training epochs (10% in this case) or attempt to correspond to the period of inflection points as might be observed on plots of learning curves."
   ]
  },
  {
   "cell_type": "code",
   "execution_count": null,
   "metadata": {},
   "outputs": [],
   "source": []
  },
  {
   "cell_type": "markdown",
   "metadata": {},
   "source": [
    "## 8. How to Best Tune Multithreading Support for XGBoost in Python"
   ]
  },
  {
   "cell_type": "markdown",
   "metadata": {},
   "source": [
    "This allows it to efficiently use all of the CPU cores in your system when training."
   ]
  },
  {
   "cell_type": "markdown",
   "metadata": {},
   "source": [
    "How to confirm that XGBoost multi-threading support is working on your system.\n",
    "How to evaluate the effect of increasing the number of threads on XGBoost.\n",
    "How to get the most out of multithreaded XGBoost when using cross validation and grid search."
   ]
  },
  {
   "cell_type": "markdown",
   "metadata": {},
   "source": [
    "Otto Dataset"
   ]
  },
  {
   "cell_type": "code",
   "execution_count": 1,
   "metadata": {},
   "outputs": [],
   "source": [
    "# kaggle 데이터임\n",
    "# kaggle api로 데이터 긁어오기"
   ]
  },
  {
   "cell_type": "code",
   "execution_count": 3,
   "metadata": {},
   "outputs": [
    {
     "name": "stdout",
     "output_type": "stream",
     "text": [
      "Collecting kaggle\n",
      "  Downloading https://files.pythonhosted.org/packages/78/3a/64a6447e5faa313b70cb555e21b5a30718c95bcc4902d91784b57fbab737/kaggle-1.5.3.tar.gz (54kB)\n",
      "Requirement already satisfied: urllib3<1.25,>=1.21.1 in c:\\programdata\\anaconda3\\lib\\site-packages (from kaggle) (1.24.1)\n",
      "Requirement already satisfied: six>=1.10 in c:\\programdata\\anaconda3\\lib\\site-packages (from kaggle) (1.12.0)\n",
      "Requirement already satisfied: certifi in c:\\programdata\\anaconda3\\lib\\site-packages (from kaggle) (2019.3.9)\n",
      "Requirement already satisfied: python-dateutil in c:\\programdata\\anaconda3\\lib\\site-packages (from kaggle) (2.8.0)\n",
      "Requirement already satisfied: requests in c:\\programdata\\anaconda3\\lib\\site-packages (from kaggle) (2.21.0)\n",
      "Requirement already satisfied: tqdm in c:\\programdata\\anaconda3\\lib\\site-packages (from kaggle) (4.31.1)\n",
      "Collecting python-slugify (from kaggle)\n",
      "  Downloading https://files.pythonhosted.org/packages/c1/19/c3cf1dc65e89aa999f85a4a3a4924ccac765a6964b405d487b7b7c8bb39f/python-slugify-3.0.2.tar.gz\n",
      "Requirement already satisfied: chardet<3.1.0,>=3.0.2 in c:\\programdata\\anaconda3\\lib\\site-packages (from requests->kaggle) (3.0.4)\n",
      "Requirement already satisfied: idna<2.9,>=2.5 in c:\\programdata\\anaconda3\\lib\\site-packages (from requests->kaggle) (2.8)\n",
      "Collecting text-unidecode==1.2 (from python-slugify->kaggle)\n",
      "  Downloading https://files.pythonhosted.org/packages/79/42/d717cc2b4520fb09e45b344b1b0b4e81aa672001dd128c180fabc655c341/text_unidecode-1.2-py2.py3-none-any.whl (77kB)\n",
      "Building wheels for collected packages: kaggle, python-slugify\n",
      "  Building wheel for kaggle (setup.py): started\n",
      "  Building wheel for kaggle (setup.py): finished with status 'done'\n",
      "  Stored in directory: C:\\Users\\kmyu\\AppData\\Local\\pip\\Cache\\wheels\\ee\\97\\c5\\87dcdc9434fe4e632ed5945e31a03703af229db178ef6a00e8\n",
      "  Building wheel for python-slugify (setup.py): started\n",
      "  Building wheel for python-slugify (setup.py): finished with status 'done'\n",
      "  Stored in directory: C:\\Users\\kmyu\\AppData\\Local\\pip\\Cache\\wheels\\16\\7f\\c3\\6b0582283ad589d68a306da924a78c74546e010d8106b9b3a9\n",
      "Successfully built kaggle python-slugify\n",
      "Installing collected packages: text-unidecode, python-slugify, kaggle\n",
      "Successfully installed kaggle-1.5.3 python-slugify-3.0.2 text-unidecode-1.2\n"
     ]
    }
   ],
   "source": [
    "# kaggle api 설치\n",
    "#!pip install kaggle"
   ]
  },
  {
   "cell_type": "code",
   "execution_count": 32,
   "metadata": {},
   "outputs": [
    {
     "name": "stdout",
     "output_type": "stream",
     "text": [
      "Name: kaggle\n",
      "Version: 1.5.3\n",
      "Summary: Kaggle API\n",
      "Home-page: https://github.com/Kaggle/kaggle-api\n",
      "Author: Kaggle\n",
      "Author-email: support@kaggle.com\n",
      "License: Apache 2.0\n",
      "Location: c:\\programdata\\anaconda3\\lib\\site-packages\n",
      "Requires: six, python-dateutil, requests, python-slugify, certifi, tqdm, urllib3\n",
      "Required-by: \n"
     ]
    }
   ],
   "source": [
    "!pip show kaggle"
   ]
  },
  {
   "cell_type": "code",
   "execution_count": 33,
   "metadata": {},
   "outputs": [],
   "source": [
    "# https://www.kaggle.com/kmtune/account 에 접속하여\n",
    "# Create API Token 클릭"
   ]
  },
  {
   "cell_type": "code",
   "execution_count": 34,
   "metadata": {},
   "outputs": [],
   "source": [
    "# jason 파일을 다운받아서 C://user/kmyu/.kaggle 폴더에 저장\n",
    "# .kaggle 폴더가 없어서 수동으로 생성하였음"
   ]
  },
  {
   "cell_type": "code",
   "execution_count": 36,
   "metadata": {},
   "outputs": [
    {
     "name": "stderr",
     "output_type": "stream",
     "text": [
      "usage: kaggle config [-h] {view,set,unset} ...\n",
      "kaggle config: error: argument command: invalid choice: 'path' (choose from 'view', 'set', 'unset')\n"
     ]
    }
   ],
   "source": [
    "!kaggle config path"
   ]
  },
  {
   "cell_type": "code",
   "execution_count": 37,
   "metadata": {},
   "outputs": [
    {
     "name": "stderr",
     "output_type": "stream",
     "text": [
      "usage: kaggle [-h] [-v] {competitions,c,datasets,d,kernels,k,config} ...\n",
      "kaggle: error: unrecognized arguments: # 경진대회 찾기\n"
     ]
    }
   ],
   "source": [
    "!kaggle competitions list -s health # 경진대회 찾기"
   ]
  },
  {
   "cell_type": "code",
   "execution_count": 38,
   "metadata": {},
   "outputs": [
    {
     "name": "stdout",
     "output_type": "stream",
     "text": [
      "ref                    deadline             category            reward  teamCount  userHasEntered  \n",
      "---------------------  -------------------  ---------------  ---------  ---------  --------------  \n",
      "word2vec-nlp-tutorial  2015-06-30 23:59:00  Getting Started  Knowledge        578           False  \n"
     ]
    }
   ],
   "source": [
    "# 튜토리얼과 관련 된 경진대회를 찾아보기\n",
    "!kaggle competitions list -s tutorial"
   ]
  },
  {
   "cell_type": "code",
   "execution_count": 39,
   "metadata": {},
   "outputs": [
    {
     "name": "stdout",
     "output_type": "stream",
     "text": [
      "ref                    deadline             category            reward  teamCount  userHasEntered  \n",
      "---------------------  -------------------  ---------------  ---------  ---------  --------------  \n",
      "word2vec-nlp-tutorial  2015-06-30 23:59:00  Getting Started  Knowledge        578           False  \n"
     ]
    }
   ],
   "source": [
    "# nlp와 관련 된 경진대회를 찾아보기\n",
    "!kaggle competitions list -s nlp"
   ]
  },
  {
   "cell_type": "code",
   "execution_count": 40,
   "metadata": {},
   "outputs": [
    {
     "name": "stdout",
     "output_type": "stream",
     "text": [
      "name                   size  creationDate         \n",
      "---------------------  ----  -------------------  \n",
      "train.csv              60KB  2013-06-28 13:40:25  \n",
      "test.csv               28KB  2013-06-28 13:40:24  \n",
      "gender_submission.csv   3KB  2017-02-01 01:49:18  \n"
     ]
    }
   ],
   "source": [
    "# 타이타닉 경진대회의 데이터셋을 본다.\n",
    "!kaggle competitions files -c titanic"
   ]
  },
  {
   "cell_type": "code",
   "execution_count": 41,
   "metadata": {},
   "outputs": [
    {
     "name": "stdout",
     "output_type": "stream",
     "text": [
      "Downloading train.csv to C:\\Users\\kmyu\\Desktop\\학습\\머신러닝\\xgb_test\n",
      "\n",
      "Downloading test.csv to C:\\Users\\kmyu\\Desktop\\학습\\머신러닝\\xgb_test\n",
      "\n",
      "Downloading gender_submission.csv to C:\\Users\\kmyu\\Desktop\\학습\\머신러닝\\xgb_test\n",
      "\n"
     ]
    },
    {
     "name": "stderr",
     "output_type": "stream",
     "text": [
      "\n",
      "  0%|          | 0.00/59.8k [00:00<?, ?B/s]\n",
      "100%|##########| 59.8k/59.8k [00:00<00:00, 374kB/s]\n",
      "\n",
      "  0%|          | 0.00/28.0k [00:00<?, ?B/s]\n",
      "100%|##########| 28.0k/28.0k [00:00<00:00, 1.02MB/s]\n",
      "\n",
      "  0%|          | 0.00/3.18k [00:00<?, ?B/s]\n",
      "100%|##########| 3.18k/3.18k [00:00<00:00, 156kB/s]\n"
     ]
    }
   ],
   "source": [
    "# 타이타닉 경진대회 파일을 다운로드 받는다.\n",
    "!kaggle competitions download -c titanic"
   ]
  },
  {
   "cell_type": "code",
   "execution_count": 19,
   "metadata": {},
   "outputs": [],
   "source": [
    "## 주의 주피터 노트북이 저장된 폴더에 저장됨\n",
    "# 해결할 것"
   ]
  },
  {
   "cell_type": "code",
   "execution_count": null,
   "metadata": {},
   "outputs": [],
   "source": []
  },
  {
   "cell_type": "code",
   "execution_count": 23,
   "metadata": {},
   "outputs": [],
   "source": [
    "# 이제 otto와 관련되 경진대회 찾기"
   ]
  },
  {
   "cell_type": "code",
   "execution_count": 42,
   "metadata": {},
   "outputs": [
    {
     "name": "stdout",
     "output_type": "stream",
     "text": [
      "ref                                          deadline             category   reward  teamCount  userHasEntered  \n",
      "-------------------------------------------  -------------------  --------  -------  ---------  --------------  \n",
      "otto-group-product-classification-challenge  2015-05-18 23:59:00  Featured  $10,000       3514           False  \n"
     ]
    }
   ],
   "source": [
    "!kaggle competitions list -s otto"
   ]
  },
  {
   "cell_type": "code",
   "execution_count": 43,
   "metadata": {},
   "outputs": [
    {
     "name": "stdout",
     "output_type": "stream",
     "text": [
      "name                  size  creationDate         \n",
      "--------------------  ----  -------------------  \n",
      "sampleSubmission.csv   3MB  2015-03-05 01:07:14  \n",
      "train.csv.zip          2MB  2015-03-06 22:36:56  \n",
      "test.csv.zip           4MB  2015-03-06 22:36:59  \n"
     ]
    }
   ],
   "source": [
    "!kaggle competitions files -c otto-group-product-classification-challenge"
   ]
  },
  {
   "cell_type": "code",
   "execution_count": 44,
   "metadata": {},
   "outputs": [
    {
     "name": "stdout",
     "output_type": "stream",
     "text": [
      "403 - Forbidden\n"
     ]
    }
   ],
   "source": [
    "!kaggle competitions download -c otto-group-product-classification-challenge\n",
    "# 홈페이지에서 동의후 진행가능"
   ]
  },
  {
   "cell_type": "code",
   "execution_count": 45,
   "metadata": {},
   "outputs": [
    {
     "name": "stdout",
     "output_type": "stream",
     "text": [
      "Downloading sampleSubmission.csv to C:\\Users\\kmyu\\Desktop\\학습\\머신러닝\\xgb_test\n",
      "\n",
      "Downloading train.csv.zip to C:\\Users\\kmyu\\Desktop\\학습\\머신러닝\\xgb_test\n",
      "\n",
      "Downloading test.csv.zip to C:\\Users\\kmyu\\Desktop\\학습\\머신러닝\\xgb_test\n",
      "\n"
     ]
    },
    {
     "name": "stderr",
     "output_type": "stream",
     "text": [
      "\n",
      "  0%|          | 0.00/3.34M [00:00<?, ?B/s]\n",
      " 30%|##9       | 1.00M/3.34M [00:00<00:01, 1.30MB/s]\n",
      " 60%|#####9    | 2.00M/3.34M [00:00<00:00, 1.70MB/s]\n",
      " 90%|########9 | 3.00M/3.34M [00:01<00:00, 2.22MB/s]\n",
      "100%|##########| 3.34M/3.34M [00:01<00:00, 3.00MB/s]\n",
      "\n",
      "  0%|          | 0.00/1.59M [00:00<?, ?B/s]\n",
      " 63%|######2   | 1.00M/1.59M [00:00<00:00, 8.69MB/s]\n",
      "100%|##########| 1.59M/1.59M [00:00<00:00, 8.21MB/s]\n",
      "\n",
      "  0%|          | 0.00/3.79M [00:00<?, ?B/s]\n",
      " 26%|##6       | 1.00M/3.79M [00:00<00:00, 7.91MB/s]\n",
      " 53%|#####2    | 2.00M/3.79M [00:00<00:00, 7.89MB/s]\n",
      " 79%|#######9  | 3.00M/3.79M [00:00<00:00, 8.00MB/s]\n",
      "100%|##########| 3.79M/3.79M [00:00<00:00, 8.11MB/s]\n"
     ]
    }
   ],
   "source": [
    "!kaggle competitions download -c otto-group-product-classification-challenge"
   ]
  },
  {
   "cell_type": "code",
   "execution_count": 46,
   "metadata": {},
   "outputs": [
    {
     "name": "stdout",
     "output_type": "stream",
     "text": [
      "Downloading sampleSubmission.csv to ./data\n",
      "\n",
      "Downloading train.csv.zip to ./data\n",
      "\n",
      "Downloading test.csv.zip to ./data\n",
      "\n"
     ]
    },
    {
     "name": "stderr",
     "output_type": "stream",
     "text": [
      "\n",
      "  0%|          | 0.00/3.34M [00:00<?, ?B/s]\n",
      " 30%|##9       | 1.00M/3.34M [00:00<00:01, 1.56MB/s]\n",
      " 60%|#####9    | 2.00M/3.34M [00:00<00:00, 2.03MB/s]\n",
      " 90%|########9 | 3.00M/3.34M [00:00<00:00, 2.55MB/s]\n",
      "100%|##########| 3.34M/3.34M [00:01<00:00, 3.41MB/s]\n",
      "\n",
      "  0%|          | 0.00/1.59M [00:00<?, ?B/s]\n",
      " 63%|######2   | 1.00M/1.59M [00:00<00:00, 7.20MB/s]\n",
      "100%|##########| 1.59M/1.59M [00:00<00:00, 7.22MB/s]\n",
      "\n",
      "  0%|          | 0.00/3.79M [00:00<?, ?B/s]\n",
      " 26%|##6       | 1.00M/3.79M [00:00<00:00, 7.15MB/s]\n",
      " 53%|#####2    | 2.00M/3.79M [00:00<00:00, 7.15MB/s]\n",
      " 79%|#######9  | 3.00M/3.79M [00:00<00:00, 7.17MB/s]\n",
      "100%|##########| 3.79M/3.79M [00:00<00:00, 6.96MB/s]\n"
     ]
    }
   ],
   "source": [
    "# 다운경로를 바꿀 때\n",
    "!kaggle competitions download -c otto-group-product-classification-challenge \\\n",
    "    -p ./data"
   ]
  },
  {
   "cell_type": "code",
   "execution_count": null,
   "metadata": {},
   "outputs": [],
   "source": []
  },
  {
   "cell_type": "markdown",
   "metadata": {},
   "source": [
    "### Problem Description: Otto Dataset"
   ]
  },
  {
   "cell_type": "markdown",
   "metadata": {},
   "source": [
    "This dataset describes the 93 obfuscated details of more than 61,000 products grouped into 10 product categories (e.g. fashion, electrons, etc.). Input attributes are counts of different events of some kind."
   ]
  },
  {
   "cell_type": "code",
   "execution_count": 47,
   "metadata": {},
   "outputs": [],
   "source": [
    "# obfuscated: 난독화된"
   ]
  },
  {
   "cell_type": "markdown",
   "metadata": {},
   "source": [
    "The goal is to make predictions for new products as an array of probabilities for each of the 10 categories and models are evaluated using multiclass logarithmic loss (also called cross entropy)."
   ]
  },
  {
   "cell_type": "code",
   "execution_count": null,
   "metadata": {},
   "outputs": [],
   "source": []
  },
  {
   "cell_type": "markdown",
   "metadata": {},
   "source": [
    "### Impact of the Number of Threads"
   ]
  },
  {
   "cell_type": "code",
   "execution_count": 49,
   "metadata": {},
   "outputs": [],
   "source": [
    "import numpy as np\n",
    "import pandas as pd\n",
    "import matplotlib.pyplot as plt\n",
    "from sklearn.preprocessing import LabelEncoder\n",
    "import time\n",
    "from xgboost import XGBClassifier"
   ]
  },
  {
   "cell_type": "code",
   "execution_count": 50,
   "metadata": {},
   "outputs": [],
   "source": [
    "data = pd.read_csv('data/otto/train.csv')"
   ]
  },
  {
   "cell_type": "code",
   "execution_count": 51,
   "metadata": {},
   "outputs": [
    {
     "data": {
      "text/html": [
       "<div>\n",
       "<style scoped>\n",
       "    .dataframe tbody tr th:only-of-type {\n",
       "        vertical-align: middle;\n",
       "    }\n",
       "\n",
       "    .dataframe tbody tr th {\n",
       "        vertical-align: top;\n",
       "    }\n",
       "\n",
       "    .dataframe thead th {\n",
       "        text-align: right;\n",
       "    }\n",
       "</style>\n",
       "<table border=\"1\" class=\"dataframe\">\n",
       "  <thead>\n",
       "    <tr style=\"text-align: right;\">\n",
       "      <th></th>\n",
       "      <th>id</th>\n",
       "      <th>feat_1</th>\n",
       "      <th>feat_2</th>\n",
       "      <th>feat_3</th>\n",
       "      <th>feat_4</th>\n",
       "      <th>feat_5</th>\n",
       "      <th>feat_6</th>\n",
       "      <th>feat_7</th>\n",
       "      <th>feat_8</th>\n",
       "      <th>feat_9</th>\n",
       "      <th>feat_10</th>\n",
       "      <th>feat_11</th>\n",
       "      <th>feat_12</th>\n",
       "      <th>feat_13</th>\n",
       "      <th>feat_14</th>\n",
       "      <th>feat_15</th>\n",
       "      <th>feat_16</th>\n",
       "      <th>feat_17</th>\n",
       "      <th>feat_18</th>\n",
       "      <th>feat_19</th>\n",
       "      <th>feat_20</th>\n",
       "      <th>feat_21</th>\n",
       "      <th>feat_22</th>\n",
       "      <th>feat_23</th>\n",
       "      <th>feat_24</th>\n",
       "      <th>feat_25</th>\n",
       "      <th>feat_26</th>\n",
       "      <th>feat_27</th>\n",
       "      <th>feat_28</th>\n",
       "      <th>feat_29</th>\n",
       "      <th>feat_30</th>\n",
       "      <th>feat_31</th>\n",
       "      <th>feat_32</th>\n",
       "      <th>feat_33</th>\n",
       "      <th>feat_34</th>\n",
       "      <th>feat_35</th>\n",
       "      <th>feat_36</th>\n",
       "      <th>feat_37</th>\n",
       "      <th>feat_38</th>\n",
       "      <th>feat_39</th>\n",
       "      <th>feat_40</th>\n",
       "      <th>feat_41</th>\n",
       "      <th>feat_42</th>\n",
       "      <th>feat_43</th>\n",
       "      <th>feat_44</th>\n",
       "      <th>feat_45</th>\n",
       "      <th>feat_46</th>\n",
       "      <th>feat_47</th>\n",
       "      <th>feat_48</th>\n",
       "      <th>feat_49</th>\n",
       "      <th>feat_50</th>\n",
       "      <th>feat_51</th>\n",
       "      <th>feat_52</th>\n",
       "      <th>feat_53</th>\n",
       "      <th>feat_54</th>\n",
       "      <th>feat_55</th>\n",
       "      <th>feat_56</th>\n",
       "      <th>feat_57</th>\n",
       "      <th>feat_58</th>\n",
       "      <th>feat_59</th>\n",
       "      <th>feat_60</th>\n",
       "      <th>feat_61</th>\n",
       "      <th>feat_62</th>\n",
       "      <th>feat_63</th>\n",
       "      <th>feat_64</th>\n",
       "      <th>feat_65</th>\n",
       "      <th>feat_66</th>\n",
       "      <th>feat_67</th>\n",
       "      <th>feat_68</th>\n",
       "      <th>feat_69</th>\n",
       "      <th>feat_70</th>\n",
       "      <th>feat_71</th>\n",
       "      <th>feat_72</th>\n",
       "      <th>feat_73</th>\n",
       "      <th>feat_74</th>\n",
       "      <th>feat_75</th>\n",
       "      <th>feat_76</th>\n",
       "      <th>feat_77</th>\n",
       "      <th>feat_78</th>\n",
       "      <th>feat_79</th>\n",
       "      <th>feat_80</th>\n",
       "      <th>feat_81</th>\n",
       "      <th>feat_82</th>\n",
       "      <th>feat_83</th>\n",
       "      <th>feat_84</th>\n",
       "      <th>feat_85</th>\n",
       "      <th>feat_86</th>\n",
       "      <th>feat_87</th>\n",
       "      <th>feat_88</th>\n",
       "      <th>feat_89</th>\n",
       "      <th>feat_90</th>\n",
       "      <th>feat_91</th>\n",
       "      <th>feat_92</th>\n",
       "      <th>feat_93</th>\n",
       "      <th>target</th>\n",
       "    </tr>\n",
       "  </thead>\n",
       "  <tbody>\n",
       "    <tr>\n",
       "      <th>0</th>\n",
       "      <td>1</td>\n",
       "      <td>1</td>\n",
       "      <td>0</td>\n",
       "      <td>0</td>\n",
       "      <td>0</td>\n",
       "      <td>0</td>\n",
       "      <td>0</td>\n",
       "      <td>0</td>\n",
       "      <td>0</td>\n",
       "      <td>0</td>\n",
       "      <td>0</td>\n",
       "      <td>1</td>\n",
       "      <td>0</td>\n",
       "      <td>0</td>\n",
       "      <td>0</td>\n",
       "      <td>0</td>\n",
       "      <td>0</td>\n",
       "      <td>2</td>\n",
       "      <td>0</td>\n",
       "      <td>0</td>\n",
       "      <td>0</td>\n",
       "      <td>0</td>\n",
       "      <td>1</td>\n",
       "      <td>0</td>\n",
       "      <td>4</td>\n",
       "      <td>1</td>\n",
       "      <td>1</td>\n",
       "      <td>0</td>\n",
       "      <td>0</td>\n",
       "      <td>2</td>\n",
       "      <td>0</td>\n",
       "      <td>0</td>\n",
       "      <td>0</td>\n",
       "      <td>0</td>\n",
       "      <td>0</td>\n",
       "      <td>1</td>\n",
       "      <td>0</td>\n",
       "      <td>0</td>\n",
       "      <td>0</td>\n",
       "      <td>0</td>\n",
       "      <td>1</td>\n",
       "      <td>0</td>\n",
       "      <td>5</td>\n",
       "      <td>0</td>\n",
       "      <td>0</td>\n",
       "      <td>0</td>\n",
       "      <td>0</td>\n",
       "      <td>0</td>\n",
       "      <td>2</td>\n",
       "      <td>0</td>\n",
       "      <td>0</td>\n",
       "      <td>0</td>\n",
       "      <td>0</td>\n",
       "      <td>0</td>\n",
       "      <td>1</td>\n",
       "      <td>0</td>\n",
       "      <td>0</td>\n",
       "      <td>2</td>\n",
       "      <td>0</td>\n",
       "      <td>0</td>\n",
       "      <td>11</td>\n",
       "      <td>0</td>\n",
       "      <td>1</td>\n",
       "      <td>1</td>\n",
       "      <td>0</td>\n",
       "      <td>1</td>\n",
       "      <td>0</td>\n",
       "      <td>7</td>\n",
       "      <td>0</td>\n",
       "      <td>0</td>\n",
       "      <td>0</td>\n",
       "      <td>1</td>\n",
       "      <td>0</td>\n",
       "      <td>0</td>\n",
       "      <td>0</td>\n",
       "      <td>0</td>\n",
       "      <td>0</td>\n",
       "      <td>0</td>\n",
       "      <td>0</td>\n",
       "      <td>2</td>\n",
       "      <td>1</td>\n",
       "      <td>0</td>\n",
       "      <td>0</td>\n",
       "      <td>0</td>\n",
       "      <td>0</td>\n",
       "      <td>1</td>\n",
       "      <td>0</td>\n",
       "      <td>0</td>\n",
       "      <td>0</td>\n",
       "      <td>0</td>\n",
       "      <td>0</td>\n",
       "      <td>0</td>\n",
       "      <td>0</td>\n",
       "      <td>0</td>\n",
       "      <td>Class_1</td>\n",
       "    </tr>\n",
       "    <tr>\n",
       "      <th>1</th>\n",
       "      <td>2</td>\n",
       "      <td>0</td>\n",
       "      <td>0</td>\n",
       "      <td>0</td>\n",
       "      <td>0</td>\n",
       "      <td>0</td>\n",
       "      <td>0</td>\n",
       "      <td>0</td>\n",
       "      <td>1</td>\n",
       "      <td>0</td>\n",
       "      <td>0</td>\n",
       "      <td>0</td>\n",
       "      <td>0</td>\n",
       "      <td>0</td>\n",
       "      <td>0</td>\n",
       "      <td>0</td>\n",
       "      <td>0</td>\n",
       "      <td>0</td>\n",
       "      <td>2</td>\n",
       "      <td>0</td>\n",
       "      <td>0</td>\n",
       "      <td>0</td>\n",
       "      <td>0</td>\n",
       "      <td>0</td>\n",
       "      <td>0</td>\n",
       "      <td>0</td>\n",
       "      <td>0</td>\n",
       "      <td>0</td>\n",
       "      <td>0</td>\n",
       "      <td>0</td>\n",
       "      <td>0</td>\n",
       "      <td>0</td>\n",
       "      <td>0</td>\n",
       "      <td>0</td>\n",
       "      <td>0</td>\n",
       "      <td>0</td>\n",
       "      <td>0</td>\n",
       "      <td>1</td>\n",
       "      <td>0</td>\n",
       "      <td>0</td>\n",
       "      <td>0</td>\n",
       "      <td>0</td>\n",
       "      <td>0</td>\n",
       "      <td>0</td>\n",
       "      <td>0</td>\n",
       "      <td>0</td>\n",
       "      <td>0</td>\n",
       "      <td>0</td>\n",
       "      <td>0</td>\n",
       "      <td>0</td>\n",
       "      <td>0</td>\n",
       "      <td>0</td>\n",
       "      <td>0</td>\n",
       "      <td>0</td>\n",
       "      <td>0</td>\n",
       "      <td>0</td>\n",
       "      <td>0</td>\n",
       "      <td>0</td>\n",
       "      <td>1</td>\n",
       "      <td>0</td>\n",
       "      <td>0</td>\n",
       "      <td>0</td>\n",
       "      <td>0</td>\n",
       "      <td>0</td>\n",
       "      <td>1</td>\n",
       "      <td>0</td>\n",
       "      <td>0</td>\n",
       "      <td>1</td>\n",
       "      <td>0</td>\n",
       "      <td>0</td>\n",
       "      <td>0</td>\n",
       "      <td>0</td>\n",
       "      <td>0</td>\n",
       "      <td>2</td>\n",
       "      <td>1</td>\n",
       "      <td>0</td>\n",
       "      <td>1</td>\n",
       "      <td>0</td>\n",
       "      <td>1</td>\n",
       "      <td>0</td>\n",
       "      <td>0</td>\n",
       "      <td>0</td>\n",
       "      <td>0</td>\n",
       "      <td>0</td>\n",
       "      <td>0</td>\n",
       "      <td>0</td>\n",
       "      <td>0</td>\n",
       "      <td>0</td>\n",
       "      <td>0</td>\n",
       "      <td>0</td>\n",
       "      <td>0</td>\n",
       "      <td>0</td>\n",
       "      <td>0</td>\n",
       "      <td>0</td>\n",
       "      <td>Class_1</td>\n",
       "    </tr>\n",
       "    <tr>\n",
       "      <th>2</th>\n",
       "      <td>3</td>\n",
       "      <td>0</td>\n",
       "      <td>0</td>\n",
       "      <td>0</td>\n",
       "      <td>0</td>\n",
       "      <td>0</td>\n",
       "      <td>0</td>\n",
       "      <td>0</td>\n",
       "      <td>1</td>\n",
       "      <td>0</td>\n",
       "      <td>0</td>\n",
       "      <td>0</td>\n",
       "      <td>0</td>\n",
       "      <td>0</td>\n",
       "      <td>0</td>\n",
       "      <td>0</td>\n",
       "      <td>0</td>\n",
       "      <td>1</td>\n",
       "      <td>0</td>\n",
       "      <td>0</td>\n",
       "      <td>0</td>\n",
       "      <td>0</td>\n",
       "      <td>0</td>\n",
       "      <td>0</td>\n",
       "      <td>0</td>\n",
       "      <td>0</td>\n",
       "      <td>0</td>\n",
       "      <td>0</td>\n",
       "      <td>0</td>\n",
       "      <td>0</td>\n",
       "      <td>0</td>\n",
       "      <td>0</td>\n",
       "      <td>0</td>\n",
       "      <td>1</td>\n",
       "      <td>0</td>\n",
       "      <td>0</td>\n",
       "      <td>0</td>\n",
       "      <td>0</td>\n",
       "      <td>0</td>\n",
       "      <td>0</td>\n",
       "      <td>0</td>\n",
       "      <td>0</td>\n",
       "      <td>0</td>\n",
       "      <td>0</td>\n",
       "      <td>0</td>\n",
       "      <td>0</td>\n",
       "      <td>0</td>\n",
       "      <td>0</td>\n",
       "      <td>1</td>\n",
       "      <td>0</td>\n",
       "      <td>0</td>\n",
       "      <td>0</td>\n",
       "      <td>0</td>\n",
       "      <td>0</td>\n",
       "      <td>0</td>\n",
       "      <td>1</td>\n",
       "      <td>0</td>\n",
       "      <td>0</td>\n",
       "      <td>0</td>\n",
       "      <td>0</td>\n",
       "      <td>0</td>\n",
       "      <td>0</td>\n",
       "      <td>0</td>\n",
       "      <td>0</td>\n",
       "      <td>0</td>\n",
       "      <td>0</td>\n",
       "      <td>0</td>\n",
       "      <td>6</td>\n",
       "      <td>0</td>\n",
       "      <td>0</td>\n",
       "      <td>2</td>\n",
       "      <td>0</td>\n",
       "      <td>0</td>\n",
       "      <td>0</td>\n",
       "      <td>0</td>\n",
       "      <td>0</td>\n",
       "      <td>0</td>\n",
       "      <td>0</td>\n",
       "      <td>0</td>\n",
       "      <td>0</td>\n",
       "      <td>0</td>\n",
       "      <td>1</td>\n",
       "      <td>0</td>\n",
       "      <td>0</td>\n",
       "      <td>0</td>\n",
       "      <td>0</td>\n",
       "      <td>0</td>\n",
       "      <td>0</td>\n",
       "      <td>0</td>\n",
       "      <td>0</td>\n",
       "      <td>0</td>\n",
       "      <td>0</td>\n",
       "      <td>0</td>\n",
       "      <td>0</td>\n",
       "      <td>Class_1</td>\n",
       "    </tr>\n",
       "    <tr>\n",
       "      <th>3</th>\n",
       "      <td>4</td>\n",
       "      <td>1</td>\n",
       "      <td>0</td>\n",
       "      <td>0</td>\n",
       "      <td>1</td>\n",
       "      <td>6</td>\n",
       "      <td>1</td>\n",
       "      <td>5</td>\n",
       "      <td>0</td>\n",
       "      <td>0</td>\n",
       "      <td>1</td>\n",
       "      <td>1</td>\n",
       "      <td>0</td>\n",
       "      <td>1</td>\n",
       "      <td>0</td>\n",
       "      <td>0</td>\n",
       "      <td>1</td>\n",
       "      <td>1</td>\n",
       "      <td>0</td>\n",
       "      <td>0</td>\n",
       "      <td>0</td>\n",
       "      <td>0</td>\n",
       "      <td>0</td>\n",
       "      <td>0</td>\n",
       "      <td>7</td>\n",
       "      <td>2</td>\n",
       "      <td>2</td>\n",
       "      <td>0</td>\n",
       "      <td>0</td>\n",
       "      <td>0</td>\n",
       "      <td>58</td>\n",
       "      <td>0</td>\n",
       "      <td>10</td>\n",
       "      <td>0</td>\n",
       "      <td>0</td>\n",
       "      <td>0</td>\n",
       "      <td>0</td>\n",
       "      <td>0</td>\n",
       "      <td>3</td>\n",
       "      <td>0</td>\n",
       "      <td>0</td>\n",
       "      <td>0</td>\n",
       "      <td>0</td>\n",
       "      <td>0</td>\n",
       "      <td>2</td>\n",
       "      <td>0</td>\n",
       "      <td>2</td>\n",
       "      <td>0</td>\n",
       "      <td>1</td>\n",
       "      <td>2</td>\n",
       "      <td>1</td>\n",
       "      <td>3</td>\n",
       "      <td>0</td>\n",
       "      <td>0</td>\n",
       "      <td>3</td>\n",
       "      <td>1</td>\n",
       "      <td>0</td>\n",
       "      <td>0</td>\n",
       "      <td>0</td>\n",
       "      <td>0</td>\n",
       "      <td>0</td>\n",
       "      <td>0</td>\n",
       "      <td>0</td>\n",
       "      <td>0</td>\n",
       "      <td>0</td>\n",
       "      <td>2</td>\n",
       "      <td>1</td>\n",
       "      <td>5</td>\n",
       "      <td>0</td>\n",
       "      <td>0</td>\n",
       "      <td>4</td>\n",
       "      <td>0</td>\n",
       "      <td>0</td>\n",
       "      <td>2</td>\n",
       "      <td>1</td>\n",
       "      <td>0</td>\n",
       "      <td>1</td>\n",
       "      <td>0</td>\n",
       "      <td>0</td>\n",
       "      <td>1</td>\n",
       "      <td>1</td>\n",
       "      <td>2</td>\n",
       "      <td>2</td>\n",
       "      <td>0</td>\n",
       "      <td>22</td>\n",
       "      <td>0</td>\n",
       "      <td>1</td>\n",
       "      <td>2</td>\n",
       "      <td>0</td>\n",
       "      <td>0</td>\n",
       "      <td>0</td>\n",
       "      <td>0</td>\n",
       "      <td>0</td>\n",
       "      <td>0</td>\n",
       "      <td>Class_1</td>\n",
       "    </tr>\n",
       "    <tr>\n",
       "      <th>4</th>\n",
       "      <td>5</td>\n",
       "      <td>0</td>\n",
       "      <td>0</td>\n",
       "      <td>0</td>\n",
       "      <td>0</td>\n",
       "      <td>0</td>\n",
       "      <td>0</td>\n",
       "      <td>0</td>\n",
       "      <td>0</td>\n",
       "      <td>0</td>\n",
       "      <td>0</td>\n",
       "      <td>0</td>\n",
       "      <td>0</td>\n",
       "      <td>0</td>\n",
       "      <td>0</td>\n",
       "      <td>0</td>\n",
       "      <td>0</td>\n",
       "      <td>4</td>\n",
       "      <td>0</td>\n",
       "      <td>0</td>\n",
       "      <td>0</td>\n",
       "      <td>0</td>\n",
       "      <td>0</td>\n",
       "      <td>0</td>\n",
       "      <td>1</td>\n",
       "      <td>0</td>\n",
       "      <td>0</td>\n",
       "      <td>0</td>\n",
       "      <td>0</td>\n",
       "      <td>0</td>\n",
       "      <td>0</td>\n",
       "      <td>0</td>\n",
       "      <td>0</td>\n",
       "      <td>0</td>\n",
       "      <td>0</td>\n",
       "      <td>0</td>\n",
       "      <td>0</td>\n",
       "      <td>0</td>\n",
       "      <td>0</td>\n",
       "      <td>0</td>\n",
       "      <td>0</td>\n",
       "      <td>1</td>\n",
       "      <td>0</td>\n",
       "      <td>0</td>\n",
       "      <td>0</td>\n",
       "      <td>0</td>\n",
       "      <td>0</td>\n",
       "      <td>0</td>\n",
       "      <td>0</td>\n",
       "      <td>0</td>\n",
       "      <td>2</td>\n",
       "      <td>0</td>\n",
       "      <td>0</td>\n",
       "      <td>0</td>\n",
       "      <td>0</td>\n",
       "      <td>0</td>\n",
       "      <td>0</td>\n",
       "      <td>0</td>\n",
       "      <td>0</td>\n",
       "      <td>0</td>\n",
       "      <td>0</td>\n",
       "      <td>0</td>\n",
       "      <td>1</td>\n",
       "      <td>0</td>\n",
       "      <td>0</td>\n",
       "      <td>0</td>\n",
       "      <td>0</td>\n",
       "      <td>0</td>\n",
       "      <td>1</td>\n",
       "      <td>0</td>\n",
       "      <td>0</td>\n",
       "      <td>3</td>\n",
       "      <td>0</td>\n",
       "      <td>0</td>\n",
       "      <td>0</td>\n",
       "      <td>0</td>\n",
       "      <td>0</td>\n",
       "      <td>0</td>\n",
       "      <td>0</td>\n",
       "      <td>4</td>\n",
       "      <td>0</td>\n",
       "      <td>1</td>\n",
       "      <td>0</td>\n",
       "      <td>0</td>\n",
       "      <td>0</td>\n",
       "      <td>1</td>\n",
       "      <td>0</td>\n",
       "      <td>0</td>\n",
       "      <td>0</td>\n",
       "      <td>0</td>\n",
       "      <td>1</td>\n",
       "      <td>0</td>\n",
       "      <td>0</td>\n",
       "      <td>0</td>\n",
       "      <td>Class_1</td>\n",
       "    </tr>\n",
       "  </tbody>\n",
       "</table>\n",
       "</div>"
      ],
      "text/plain": [
       "   id  feat_1  feat_2  feat_3  feat_4  feat_5  feat_6  ...  feat_88  feat_89  feat_90  feat_91  feat_92  feat_93   target\n",
       "0   1       1       0       0       0       0       0  ...        0        0        0        0        0        0  Class_1\n",
       "1   2       0       0       0       0       0       0  ...        0        0        0        0        0        0  Class_1\n",
       "2   3       0       0       0       0       0       0  ...        0        0        0        0        0        0  Class_1\n",
       "3   4       1       0       0       1       6       1  ...        0        0        0        0        0        0  Class_1\n",
       "4   5       0       0       0       0       0       0  ...        0        0        1        0        0        0  Class_1\n",
       "\n",
       "[5 rows x 95 columns]"
      ]
     },
     "execution_count": 51,
     "metadata": {},
     "output_type": "execute_result"
    }
   ],
   "source": [
    "data.head()"
   ]
  },
  {
   "cell_type": "code",
   "execution_count": 53,
   "metadata": {},
   "outputs": [
    {
     "data": {
      "text/plain": [
       "(61878, 95)"
      ]
     },
     "execution_count": 53,
     "metadata": {},
     "output_type": "execute_result"
    }
   ],
   "source": [
    "dataset = data.values\n",
    "dataset.shape"
   ]
  },
  {
   "cell_type": "code",
   "execution_count": 54,
   "metadata": {},
   "outputs": [],
   "source": [
    "X = dataset[:, :94]\n",
    "y = dataset[:, 94]"
   ]
  },
  {
   "cell_type": "code",
   "execution_count": 55,
   "metadata": {},
   "outputs": [],
   "source": [
    "label_encoded_y = LabelEncoder().fit_transform(y)"
   ]
  },
  {
   "cell_type": "code",
   "execution_count": null,
   "metadata": {},
   "outputs": [],
   "source": []
  },
  {
   "cell_type": "code",
   "execution_count": 61,
   "metadata": {},
   "outputs": [
    {
     "data": {
      "text/html": [
       "<div>\n",
       "<style scoped>\n",
       "    .dataframe tbody tr th:only-of-type {\n",
       "        vertical-align: middle;\n",
       "    }\n",
       "\n",
       "    .dataframe tbody tr th {\n",
       "        vertical-align: top;\n",
       "    }\n",
       "\n",
       "    .dataframe thead th {\n",
       "        text-align: right;\n",
       "    }\n",
       "</style>\n",
       "<table border=\"1\" class=\"dataframe\">\n",
       "  <thead>\n",
       "    <tr style=\"text-align: right;\">\n",
       "      <th></th>\n",
       "      <th>0</th>\n",
       "      <th>1</th>\n",
       "    </tr>\n",
       "  </thead>\n",
       "  <tbody>\n",
       "    <tr>\n",
       "      <th>0</th>\n",
       "      <td>Class_1</td>\n",
       "      <td>0</td>\n",
       "    </tr>\n",
       "    <tr>\n",
       "      <th>1</th>\n",
       "      <td>Class_1</td>\n",
       "      <td>0</td>\n",
       "    </tr>\n",
       "    <tr>\n",
       "      <th>2</th>\n",
       "      <td>Class_1</td>\n",
       "      <td>0</td>\n",
       "    </tr>\n",
       "    <tr>\n",
       "      <th>3</th>\n",
       "      <td>Class_1</td>\n",
       "      <td>0</td>\n",
       "    </tr>\n",
       "    <tr>\n",
       "      <th>4</th>\n",
       "      <td>Class_1</td>\n",
       "      <td>0</td>\n",
       "    </tr>\n",
       "  </tbody>\n",
       "</table>\n",
       "</div>"
      ],
      "text/plain": [
       "         0  1\n",
       "0  Class_1  0\n",
       "1  Class_1  0\n",
       "2  Class_1  0\n",
       "3  Class_1  0\n",
       "4  Class_1  0"
      ]
     },
     "execution_count": 61,
     "metadata": {},
     "output_type": "execute_result"
    }
   ],
   "source": [
    "pd.DataFrame([y, label_encoded_y]).T.head()"
   ]
  },
  {
   "cell_type": "code",
   "execution_count": 62,
   "metadata": {},
   "outputs": [],
   "source": [
    "results = []\n",
    "num_threads = [1, 2, 3, 4]"
   ]
  },
  {
   "cell_type": "code",
   "execution_count": 67,
   "metadata": {},
   "outputs": [
    {
     "name": "stdout",
     "output_type": "stream",
     "text": [
      "1 172.25669407844543\n",
      "2 106.10845422744751\n",
      "3 83.66842079162598\n",
      "4 75.81939506530762\n"
     ]
    }
   ],
   "source": [
    "for n in num_threads:\n",
    "    start = time.time()\n",
    "    model = XGBClassifier(nthread=n)\n",
    "    model.fit(X, label_encoded_y)\n",
    "    elapsed = time.time() - start\n",
    "    print(n, elapsed)\n",
    "    results.append(elapsed)"
   ]
  },
  {
   "cell_type": "code",
   "execution_count": 68,
   "metadata": {},
   "outputs": [
    {
     "data": {
      "image/png": "[encoded data removed]",
      "text/plain": [
       "<Figure size 432x288 with 1 Axes>"
      ]
     },
     "metadata": {
      "needs_background": "light"
     },
     "output_type": "display_data"
    }
   ],
   "source": [
    "plt.plot(num_threads, results)\n",
    "plt.ylabel('Speed (seconds)')\n",
    "plt.xlabel('Number of Threads')\n",
    "plt.title('XGBoost Training Speed vs Number of Threads')\n",
    "plt.show()"
   ]
  },
  {
   "cell_type": "code",
   "execution_count": 69,
   "metadata": {},
   "outputs": [],
   "source": [
    "    start = time.time()\n",
    "    model = XGBClassifier()\n",
    "    model.fit(X, label_encoded_y)\n",
    "    elapsed = time.time() - start"
   ]
  },
  {
   "cell_type": "code",
   "execution_count": 73,
   "metadata": {},
   "outputs": [
    {
     "name": "stdout",
     "output_type": "stream",
     "text": [
      "172.03628206253052\n"
     ]
    }
   ],
   "source": [
    "print(elapsed) # 디펄트는 1인듯"
   ]
  },
  {
   "cell_type": "code",
   "execution_count": 74,
   "metadata": {},
   "outputs": [
    {
     "name": "stdout",
     "output_type": "stream",
     "text": [
      "176.40357780456543\n"
     ]
    }
   ],
   "source": [
    "start = time.time()\n",
    "model = XGBClassifier(nthread=-1)\n",
    "model.fit(X, label_encoded_y)\n",
    "elapsed = time.time() - start\n",
    "print(elapsed) #스레드 최대사용??"
   ]
  },
  {
   "cell_type": "markdown",
   "metadata": {},
   "source": [
    "### Parallelism When Cross Validating XGBoost Models"
   ]
  },
  {
   "cell_type": "markdown",
   "metadata": {},
   "source": [
    "sklearn의 k-fold cross validation도 multithreading을 지원한다.  "
   ]
  },
  {
   "cell_type": "markdown",
   "metadata": {},
   "source": [
    "For example, the n_jobs argument on the cross_val_score() function used to evaluate a model on a dataset using k-fold cross validation allows you to specify the number of parallel jobs to run."
   ]
  },
  {
   "cell_type": "markdown",
   "metadata": {},
   "source": [
    "This raises the question as to how cross validation should be configured:\n",
    "\n",
    "Disable multi-threading support in XGBoost and allow cross validation to run on all cores.  \n",
    "Disable multi-threading support in cross validation and allow XGBoost to run on all cores.  \n",
    "Enable multi-threading support for both XGBoost and Cross validation.  "
   ]
  },
  {
   "cell_type": "code",
   "execution_count": 75,
   "metadata": {},
   "outputs": [],
   "source": [
    "# # Otto, parallel cross validation\n",
    "# from pandas import read_csv\n",
    "# from xgboost import XGBClassifier\n",
    "# from sklearn.model_selection import StratifiedKFold\n",
    "# from sklearn.model_selection import cross_val_score\n",
    "# from sklearn.preprocessing import LabelEncoder\n",
    "# import time\n",
    "# # load data\n",
    "# data = read_csv('train.csv')\n",
    "# dataset = data.values\n",
    "# # split data into X and y\n",
    "# X = dataset[:,0:94]\n",
    "# y = dataset[:,94]\n",
    "# # encode string class values as integers\n",
    "# label_encoded_y = LabelEncoder().fit_transform(y)\n",
    "# # prepare cross validation\n",
    "# kfold = StratifiedKFold(n_splits=10, shuffle=True, random_state=7)\n",
    "# # Single Thread XGBoost, Parallel Thread CV\n",
    "# start = time.time()\n",
    "# model = XGBClassifier(nthread=1)\n",
    "# results = cross_val_score(model, X, label_encoded_y, cv=kfold, scoring='neg_log_loss', n_jobs=-1)\n",
    "# elapsed = time.time() - start\n",
    "# print(\"Single Thread XGBoost, Parallel Thread CV: %f\" % (elapsed))\n",
    "# # Parallel Thread XGBoost, Single Thread CV\n",
    "# start = time.time()\n",
    "# model = XGBClassifier(nthread=-1)\n",
    "# results = cross_val_score(model, X, label_encoded_y, cv=kfold, scoring='neg_log_loss', n_jobs=1)\n",
    "# elapsed = time.time() - start\n",
    "# print(\"Parallel Thread XGBoost, Single Thread CV: %f\" % (elapsed))\n",
    "# # Parallel Thread XGBoost and CV\n",
    "# start = time.time()\n",
    "# model = XGBClassifier(nthread=-1)\n",
    "# results = cross_val_score(model, X, label_encoded_y, cv=kfold, scoring='neg_log_loss', n_jobs=-1)\n",
    "# elapsed = time.time() - start\n",
    "# print(\"Parallel Thread XGBoost and CV: %f\" % (elapsed))"
   ]
  },
  {
   "cell_type": "code",
   "execution_count": null,
   "metadata": {},
   "outputs": [],
   "source": []
  },
  {
   "cell_type": "code",
   "execution_count": 78,
   "metadata": {},
   "outputs": [
    {
     "data": {
      "text/plain": [
       "'C:\\\\Users\\\\kmyu\\\\Desktop\\\\학습\\\\머신러닝\\\\xgb_test'"
      ]
     },
     "execution_count": 78,
     "metadata": {},
     "output_type": "execute_result"
    }
   ],
   "source": [
    "pwd"
   ]
  },
  {
   "cell_type": "code",
   "execution_count": null,
   "metadata": {},
   "outputs": [],
   "source": []
  }
 ],
 "metadata": {
  "kernelspec": {
   "display_name": "Python 3",
   "language": "python",
   "name": "python3"
  },
  "language_info": {
   "codemirror_mode": {
    "name": "ipython",
    "version": 3
   },
   "file_extension": ".py",
   "mimetype": "text/x-python",
   "name": "python",
   "nbconvert_exporter": "python",
   "pygments_lexer": "ipython3",
   "version": "3.6.8"
  }
 },
 "nbformat": 4,
 "nbformat_minor": 2
}
